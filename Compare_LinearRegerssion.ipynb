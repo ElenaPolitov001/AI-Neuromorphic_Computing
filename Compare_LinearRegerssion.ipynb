{
 "cells": [
  {
   "cell_type": "markdown",
   "metadata": {},
   "source": [
    "## Linear Regerssion 모델\n",
    "- Compare  scikit learn vs onnx runtime "
   ]
  },
  {
   "cell_type": "code",
   "execution_count": 5,
   "metadata": {},
   "outputs": [
    {
     "name": "stdout",
     "output_type": "stream",
     "text": [
      "(379, 2) (127, 2) (379,) (127,)\n"
     ]
    },
    {
     "data": {
      "text/plain": [
       "LinearRegression()"
      ]
     },
     "execution_count": 5,
     "metadata": {},
     "output_type": "execute_result"
    }
   ],
   "source": [
    "# Boston Data Load \n",
    "from sklearn.datasets import load_boston \n",
    "from sklearn.model_selection import train_test_split\n",
    "import pandas as pd\n",
    "import numpy as np\n",
    "import warnings\n",
    "warnings.filterwarnings('ignore')\n",
    "import time\n",
    "\n",
    "# load boston data\n",
    "boston = load_boston() # boston dataset load\n",
    "\n",
    "# 데이터 프레임으로 변환\n",
    "df = pd.DataFrame(data=boston.data, columns=boston.feature_names)\n",
    "df['price'] = boston.target\n",
    "\n",
    "x = pd.DataFrame(np.c_[df[\"LSTAT\"], df[\"RM\"]], columns=[\"LSTAT\", \"RM\"])\n",
    "y = df[\"price\"]\n",
    "\n",
    "x_train, x_test, y_train, y_test = train_test_split(x, y)\n",
    "print(x_train.shape, x_test.shape, y_train.shape, y_test.shape)\n",
    "\n",
    "# Linear regression Model\n",
    "from sklearn.linear_model import LinearRegression\n",
    "\n",
    "# 모델 생성 및 학습\n",
    "model = LinearRegression()\n",
    "model.fit(x_train, y_train)\n",
    "model"
   ]
  },
  {
   "cell_type": "code",
   "execution_count": 9,
   "metadata": {},
   "outputs": [],
   "source": [
    "# Convert into ONNX format\n",
    "from skl2onnx import convert_sklearn\n",
    "from skl2onnx.common.data_types import FloatTensorType\n",
    "\n",
    "import onnxruntime as rt\n",
    "import numpy as np\n",
    "\n",
    "# onnx 모델 변환\n",
    "initial_type = [('float_input', FloatTensorType([None, 2]))]\n",
    "onx = convert_sklearn(model, initial_types=initial_type)\n",
    "\n",
    "# onnx 모델 지정\n",
    "with open(\"linear_regression.onnx\", \"wb\") as f:\n",
    "    f.write(onx.SerializeToString())"
   ]
  },
  {
   "cell_type": "markdown",
   "metadata": {},
   "source": [
    "## Inference time 비교"
   ]
  },
  {
   "cell_type": "code",
   "execution_count": 40,
   "metadata": {},
   "outputs": [
    {
     "name": "stdout",
     "output_type": "stream",
     "text": [
      "skl 걸린시간: 0.074798583984375\n",
      "onnxruntime 걸린시간: 0.0359036922454834\n"
     ]
    }
   ],
   "source": [
    "# scikit learn score\n",
    "start = time.time()\n",
    "\n",
    "# 1000번 predict\n",
    "for i in range(1000):\n",
    "    pred_skl = model.predict(x_test.values)\n",
    "end = time.time()\n",
    "\n",
    "print('skl 걸린시간:', np.double(end-start))\n",
    "\n",
    "# Compute the prediction with ONNX Runtime\n",
    "sess = rt.InferenceSession('linear_regression.onnx')\n",
    "input_name = sess.get_inputs()[0].name\n",
    "label_name = sess.get_outputs()[0].name\n",
    "\n",
    "start = time.time()\n",
    "\n",
    "# 1000번 predict\n",
    "for i in range(1000):\n",
    "    pred_onx = sess.run([label_name], {input_name: x_test.values.astype(np.float32)})[0]\n",
    "end = time.time()\n",
    "\n",
    "print('onnxruntime 걸린시간:', np.double(end-start))"
   ]
  },
  {
   "cell_type": "markdown",
   "metadata": {},
   "source": [
    "## Scoring - Accuracy 비교"
   ]
  },
  {
   "cell_type": "code",
   "execution_count": 39,
   "metadata": {},
   "outputs": [
    {
     "name": "stdout",
     "output_type": "stream",
     "text": [
      "skl - RMSE : 4.7971590313883885, R2 Score : 0.6778666277133942\n",
      "onnx - RMSE : 4.7971590313883885, R2 Score : 0.6778666277133942\n"
     ]
    }
   ],
   "source": [
    "\n",
    "from sklearn.metrics import mean_squared_error, r2_score\n",
    "\n",
    "# skl rmse, r2\n",
    "skl_rmse = (np.sqrt(mean_squared_error(y_test, pred_skl)))\n",
    "skl_r2 = r2_score(y_test, y_train_predict)\n",
    "\n",
    "# onnx rmse, r2\n",
    "onnx_rmse = (np.sqrt(mean_squared_error(y_test, pred_onx)))\n",
    "onnx_r2 = r2_score(y_test, pred_onx)\n",
    "\n",
    "print(\"skl - RMSE : {}, R2 Score : {}\".format(rmse, r2))\n",
    "print(\"onnx - RMSE : {}, R2 Score : {}\".format(rmse, r2))"
   ]
  }
 ],
 "metadata": {
  "kernelspec": {
   "display_name": "Python 3",
   "language": "python",
   "name": "python3"
  },
  "language_info": {
   "codemirror_mode": {
    "name": "ipython",
    "version": 3
   },
   "file_extension": ".py",
   "mimetype": "text/x-python",
   "name": "python",
   "nbconvert_exporter": "python",
   "pygments_lexer": "ipython3",
   "version": "3.8.5"
  }
 },
 "nbformat": 4,
 "nbformat_minor": 4
}
