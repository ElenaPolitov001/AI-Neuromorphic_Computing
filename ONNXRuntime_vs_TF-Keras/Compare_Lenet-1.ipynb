{
 "cells": [
  {
   "cell_type": "markdown",
   "metadata": {},
   "source": [
    "# Compare Lenet-1 Model\n",
    "- Compare Keras vs onnx runtime\n",
    "\n",
    "## Make Lenet-1 Model and Convert ONNX\n",
    "- Keras로 Lenet-1 모델 생성 \n",
    "- 학습은 Mnist Data로 진행\n",
    "- <b> .h5 모델 로드 후 .onnx로 변환 </b>\n"
   ]
  },
  {
   "cell_type": "code",
   "execution_count": 1,
   "metadata": {},
   "outputs": [
    {
     "name": "stdout",
     "output_type": "stream",
     "text": [
      "--images are being resizing--\n",
      "--image resize complete--\n",
      "--images are being resizing--\n",
      "--image resize complete--\n",
      "data resize  (60000, 28, 28) (10000, 28, 28)\n",
      "expand_dims  (60000, 28, 28, 1) (10000, 28, 28, 1)\n",
      "to_categorical  (60000, 28, 28, 1) (10000, 28, 28, 1)\n",
      "전처리 작업 완료\n"
     ]
    }
   ],
   "source": [
    "import numpy as np\n",
    "from tensorflow.keras.datasets import mnist\n",
    "from tensorflow.keras import utils\n",
    "from PIL import Image\n",
    "\n",
    "# image resize 함수\n",
    "def img_resize(value, img_array):\n",
    "    print(\"--images are being resizing--\")\n",
    "    result = np.zeros((len(img_array), value[0], value[1]))\n",
    "\n",
    "    for index in range(len(img_array)):\n",
    "        img = Image.fromarray(img_array[index], 'L')\n",
    "        img = img.resize((value[0], value[1]))\n",
    "        img = np.array(img)\n",
    "        result[index] = img\n",
    "    print(\"--image resize complete--\")\n",
    "    return result\n",
    "\n",
    "# mnist Data Load 및\n",
    "(X_train, Y_train), (X_test, Y_test) = mnist.load_data()\n",
    "\n",
    "classes=10\n",
    "input_shape = (28, 28)\n",
    "\n",
    "# data resize\n",
    "X_train = img_resize(input_shape, X_train)\n",
    "X_test = img_resize(input_shape, X_test)\n",
    "print('data resize ',X_train.shape, X_test.shape)\n",
    "\n",
    "# 차원 확장\n",
    "X_train = np.expand_dims(X_train, axis = -1)\n",
    "X_test = np.expand_dims(X_test, axis = -1)\n",
    "print('expand_dims ',X_train.shape, X_test.shape)\n",
    "\n",
    "# 정답값 categorical로\n",
    "Y_train = utils.to_categorical(Y_train, 10)\n",
    "Y_test = utils.to_categorical(Y_test, 10)\n",
    "print('to_categorical ',X_train.shape, X_test.shape)\n",
    "\n",
    "print('전처리 작업 완료')"
   ]
  },
  {
   "cell_type": "code",
   "execution_count": 3,
   "metadata": {},
   "outputs": [
    {
     "name": "stdout",
     "output_type": "stream",
     "text": [
      "Train on 60000 samples, validate on 10000 samples\n",
      "Epoch 1/5\n",
      "60000/60000 [==============================] - 16s 264us/step - loss: 2.0938 - accuracy: 0.3125 - val_loss: 1.8282 - val_accuracy: 0.5102\n",
      "Epoch 2/5\n",
      "60000/60000 [==============================] - 16s 274us/step - loss: 1.6019 - accuracy: 0.6121 - val_loss: 1.3662 - val_accuracy: 0.7103\n",
      "Epoch 3/5\n",
      "60000/60000 [==============================] - 19s 319us/step - loss: 1.2054 - accuracy: 0.7512 - val_loss: 1.0342 - val_accuracy: 0.8070\n",
      "Epoch 4/5\n",
      "60000/60000 [==============================] - 19s 313us/step - loss: 0.9456 - accuracy: 0.8121 - val_loss: 0.8262 - val_accuracy: 0.8476\n",
      "Epoch 5/5\n",
      "60000/60000 [==============================] - 18s 295us/step - loss: 0.7800 - accuracy: 0.8411 - val_loss: 0.6921 - val_accuracy: 0.8702\n",
      "저장완료\n"
     ]
    }
   ],
   "source": [
    "from keras.models import Sequential\n",
    "from keras.layers import Dense, Conv2D, MaxPooling2D, Dropout, Flatten, Activation, AveragePooling2D, BatchNormalization\n",
    "\n",
    "# 모델 저장 경로\n",
    "MODEL_SAVE_FOLDER_PATH = 'model/'\n",
    "\n",
    "# Lenet 모델 만듬\n",
    "model = Sequential()\n",
    "\n",
    "model.add(Conv2D(input_shape = (input_shape[0], input_shape[1], 1), filters = 4, kernel_size = (5, 5), strides=(1, 1), padding = 'same', name = 'conv1'))\n",
    "model.add(Activation('tanh'))\n",
    "model.add(AveragePooling2D(pool_size = (2, 2), strides = (2, 2), name = 'avgpool1'))\n",
    "\n",
    "model.add(Conv2D(filters = 12, kernel_size = (5, 5), strides=(1, 1), padding = 'valid', name = 'conv2'))\n",
    "model.add(Activation('tanh'))\n",
    "model.add(AveragePooling2D(pool_size = (2, 2), strides = (2, 2), name = 'avgpool2'))\n",
    "\n",
    "model.add(Flatten(name = 'flatten'))\n",
    "\n",
    "model.add(Dense(classes, activation = 'softmax',  name = 'predictions'))\n",
    "model.compile(loss = 'categorical_crossentropy', optimizer = 'SGD', metrics = ['accuracy'])\n",
    "\n",
    "history = model.fit(X_train, Y_train,\n",
    "                    validation_data = (X_test, Y_test),\n",
    "                    epochs = 5, batch_size = 1000, verbose = 1)\n",
    "\n",
    "# 모델 save .h5 파일\n",
    "model.save(MODEL_SAVE_FOLDER_PATH + \"lenet-1.h5\")\n",
    "print('저장완료')"
   ]
  },
  {
   "cell_type": "code",
   "execution_count": 10,
   "metadata": {},
   "outputs": [
    {
     "name": "stdout",
     "output_type": "stream",
     "text": [
      "onnx로 변환 완료\n"
     ]
    }
   ],
   "source": [
    "# Convert into ONNX Format\n",
    "from keras.models import load_model\n",
    "from keras2onnx import convert_keras\n",
    "import onnxruntime as rt\n",
    "import numpy as np\n",
    "\n",
    "model = load_model('model/lenet-1.h5')\n",
    "\n",
    "# keras model -> onnx 로 변환\n",
    "onx = convert_keras(model, 'lenet-1.onnx')\n",
    "\n",
    "with open(\"model/lenet-1.onnx\", \"wb\") as f:\n",
    "    f.write(onx.SerializeToString())\n",
    "\n",
    "print('onnx로 변환 완료')"
   ]
  },
  {
   "cell_type": "markdown",
   "metadata": {},
   "source": [
    "## Inference time 비교"
   ]
  },
  {
   "cell_type": "code",
   "execution_count": 15,
   "metadata": {},
   "outputs": [
    {
     "name": "stdout",
     "output_type": "stream",
     "text": [
      "keras - lenet 걸린시간: 1.3673410415649414\n"
     ]
    }
   ],
   "source": [
    "# lenet - mnist\n",
    "import time\n",
    "\n",
    "# 시간측정\n",
    "start = time.time()\n",
    "# lenet - keras \n",
    "pred_keras = model.predict(X_test)\n",
    "end = time.time()\n",
    "print('keras - lenet 걸린시간:', np.double(end-start))\n"
   ]
  },
  {
   "cell_type": "code",
   "execution_count": 16,
   "metadata": {},
   "outputs": [
    {
     "name": "stdout",
     "output_type": "stream",
     "text": [
      "onnxruntime lenet 걸린시간: 0.4637575149536133\n"
     ]
    }
   ],
   "source": [
    "# Compute the prediction with ONNX Runtime\n",
    "sess = rt.InferenceSession('model/lenet-1.onnx')\n",
    "input_name = sess.get_inputs()[0].name\n",
    "label_name = sess.get_outputs()[0].name\n",
    "\n",
    "# 시간측정\n",
    "start = time.time()\n",
    "# lenet - onnxruntime \n",
    "pred_onx = sess.run([label_name], {input_name: X_test.astype(np.float32)})[0]\n",
    "end = time.time()\n",
    "\n",
    "print('onnxruntime lenet 걸린시간:', np.double(end-start))"
   ]
  },
  {
   "cell_type": "markdown",
   "metadata": {},
   "source": [
    "## Scoring - Accuracy 비교\n",
    "- 시간 비교만 필요해서 학습정도를 적게 했음\n",
    "- 스코어는 신경안씀"
   ]
  },
  {
   "cell_type": "code",
   "execution_count": 23,
   "metadata": {},
   "outputs": [
    {
     "name": "stdout",
     "output_type": "stream",
     "text": [
      "accuracy_score - Keras 0.611\n",
      "accuracy_score - onnx 0.611\n"
     ]
    }
   ],
   "source": [
    "# Accuracy 평가지표\n",
    "from sklearn.metrics import accuracy_score\n",
    "\n",
    "# Predict에 대한 Accuracy Score\n",
    "print('accuracy_score - Keras', float(accuracy_score(Y_test, np.round(pred_keras))))\n",
    "print('accuracy_score - onnx', float(accuracy_score(Y_test, np.round(pred_onx))))\n"
   ]
  }
 ],
 "metadata": {
  "kernelspec": {
   "display_name": "Python 3",
   "language": "python",
   "name": "python3"
  },
  "language_info": {
   "codemirror_mode": {
    "name": "ipython",
    "version": 3
   },
   "file_extension": ".py",
   "mimetype": "text/x-python",
   "name": "python",
   "nbconvert_exporter": "python",
   "pygments_lexer": "ipython3",
   "version": "3.7.5"
  }
 },
 "nbformat": 4,
 "nbformat_minor": 4
}
