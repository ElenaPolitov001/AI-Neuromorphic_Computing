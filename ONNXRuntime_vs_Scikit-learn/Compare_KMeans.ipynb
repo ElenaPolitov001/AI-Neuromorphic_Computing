{
 "cells": [
  {
   "cell_type": "markdown",
   "metadata": {},
   "source": [
    "## Kmeans 모델\n",
    "- Compare  scikit learn vs onnx runtime "
   ]
  },
  {
   "cell_type": "code",
   "execution_count": 4,
   "metadata": {},
   "outputs": [
    {
     "name": "stdout",
     "output_type": "stream",
     "text": [
      "(300, 2) (300,)\n"
     ]
    },
    {
     "data": {
      "text/plain": [
       "KMeans(n_clusters=3)"
      ]
     },
     "execution_count": 4,
     "metadata": {},
     "output_type": "execute_result"
    }
   ],
   "source": [
    "# Iris Data Load \n",
    "# Train a model.\n",
    "\n",
    "from sklearn.datasets import make_blobs\n",
    "from sklearn.model_selection import train_test_split\n",
    "from sklearn import cluster\n",
    "\n",
    "import warnings\n",
    "warnings.filterwarnings('ignore')\n",
    "import time\n",
    "\n",
    "# make_blobs data\n",
    "X, y = make_blobs(n_samples = 300, n_features=2, centers=3, random_state=1)\n",
    "print(X.shape, y.shape)\n",
    "\n",
    "# KNN Model 생성 및 학습\n",
    "kmeans = cluster.KMeans(n_clusters=3)\n",
    "kmeans.fit(X)\n",
    "kmeans"
   ]
  },
  {
   "cell_type": "code",
   "execution_count": 6,
   "metadata": {},
   "outputs": [],
   "source": [
    "# Convert into ONNX format\n",
    "from skl2onnx import convert_sklearn\n",
    "from skl2onnx.common.data_types import FloatTensorType\n",
    "\n",
    "import onnxruntime as rt\n",
    "import numpy as np\n",
    "\n",
    "# onnx 모델 변환\n",
    "initial_type = [('float_input', FloatTensorType([None, 2]))]\n",
    "onx = convert_sklearn(kmeans, initial_types=initial_type)\n",
    "\n",
    "# onnx 모델 지정\n",
    "with open(\"kmeans.onnx\", \"wb\") as f:\n",
    "    f.write(onx.SerializeToString())"
   ]
  },
  {
   "cell_type": "markdown",
   "metadata": {},
   "source": [
    "## Inference time 비교"
   ]
  },
  {
   "cell_type": "code",
   "execution_count": 25,
   "metadata": {},
   "outputs": [
    {
     "name": "stdout",
     "output_type": "stream",
     "text": [
      "skl 걸린시간: 0.30219197273254395\n",
      "onnxruntime 걸린시간: 0.0827786922454834\n"
     ]
    }
   ],
   "source": [
    "# scikit learn score\n",
    "\n",
    "start = time.time()\n",
    "\n",
    "# 1000번 predict\n",
    "for i in range(1000):\n",
    "    pred_skl = kmeans.predict(X)\n",
    "end = time.time()\n",
    "\n",
    "print('skl 걸린시간:', np.double(end-start))\n",
    "\n",
    "# Compute the prediction with ONNX Runtime\n",
    "sess = rt.InferenceSession('kmeans.onnx')\n",
    "input_name = sess.get_inputs()[0].name\n",
    "label_name = sess.get_outputs()[0].name\n",
    "\n",
    "start = time.time()\n",
    "\n",
    "# 1000번 predict\n",
    "for i in range(1000):\n",
    "    pred_onx = sess.run([label_name], {input_name: X.astype(np.float32)})[0]\n",
    "end = time.time()\n",
    "\n",
    "print('onnxruntime 걸린시간:', np.double(end-start))\n"
   ]
  },
  {
   "cell_type": "markdown",
   "metadata": {},
   "source": [
    "## 군집 결과 비교"
   ]
  },
  {
   "cell_type": "code",
   "execution_count": 14,
   "metadata": {},
   "outputs": [
    {
     "name": "stdout",
     "output_type": "stream",
     "text": [
      "cluster-skl\n",
      " [1 2 1 0 0 0 1 0 0 2 2 2 1 1 2 0 1 1 0 1 1 1 0 0 0 1 1 0 1 1 0 2 2 1 2 1 2\n",
      " 0 2 0 0 2 0 0 1 1 0 2 1 1 2 1 1 1 0 1 0 2 0 1 1 2 2 0 0 2 2 0 2 1 0 0 0 1\n",
      " 0 1 2 0 0 1 1 1 0 1 0 2 1 1 0 1 2 0 1 2 1 2 1 1 2 2 1 2 0 2 2 0 0 1 2 1 2\n",
      " 1 2 0 1 0 2 1 1 0 1 0 2 1 2 0 0 1 2 1 2 1 0 2 2 1 2 1 1 1 2 0 0 2 1 2 0 1\n",
      " 2 0 2 1 2 1 0 2 2 1 2 1 1 0 0 2 0 1 2 0 0 1 0 1 1 0 0 0 2 1 2 2 0 1 0 1 0\n",
      " 0 0 2 1 2 1 0 0 0 0 1 0 1 0 0 2 2 1 2 2 0 2 1 2 1 0 2 2 0 2 0 2 1 0 0 1 2\n",
      " 1 0 2 0 1 0 0 2 0 1 2 2 0 2 1 2 2 0 2 0 2 1 0 2 0 0 0 1 0 2 1 2 0 2 1 2 1\n",
      " 0 1 2 0 1 2 0 0 1 1 2 2 0 2 2 0 2 2 2 0 2 0 2 1 2 2 1 2 1 2 2 1 1 0 1 1 0\n",
      " 1 2 2 2]\n",
      "clsuter-onnx\n",
      " [1 2 1 0 0 0 1 0 0 2 2 2 1 1 2 0 1 1 0 1 1 1 0 0 0 1 1 0 1 1 0 2 2 1 2 1 2\n",
      " 0 2 0 0 2 0 0 1 1 0 2 1 1 2 1 1 1 0 1 0 2 0 1 1 2 2 0 0 2 2 0 2 1 0 0 0 1\n",
      " 0 1 2 0 0 1 1 1 0 1 0 2 1 1 0 1 2 0 1 2 1 2 1 1 2 2 1 2 0 2 2 0 0 1 2 1 2\n",
      " 1 2 0 1 0 2 1 1 0 1 0 2 1 2 0 0 1 2 1 2 1 0 2 2 1 2 1 1 1 2 0 0 2 1 2 0 1\n",
      " 2 0 2 1 2 1 0 2 2 1 2 1 1 0 0 2 0 1 2 0 0 1 0 1 1 0 0 0 2 1 2 2 0 1 0 1 0\n",
      " 0 0 2 1 2 1 0 0 0 0 1 0 1 0 0 2 2 1 2 2 0 2 1 2 1 0 2 2 0 2 0 2 1 0 0 1 2\n",
      " 1 0 2 0 1 0 0 2 0 1 2 2 0 2 1 2 2 0 2 0 2 1 0 2 0 0 0 1 0 2 1 2 0 2 1 2 1\n",
      " 0 1 2 0 1 2 0 0 1 1 2 2 0 2 2 0 2 2 2 0 2 0 2 1 2 2 1 2 1 2 2 1 1 0 1 1 0\n",
      " 1 2 2 2]\n"
     ]
    }
   ],
   "source": [
    "# Predict에 대한 군집 결과 비교\n",
    "print('cluster-skl\\n', pred_skl) \n",
    "print('clsuter-onnx\\n', pred_onx) \n"
   ]
  }
 ],
 "metadata": {
  "kernelspec": {
   "display_name": "Python 3",
   "language": "python",
   "name": "python3"
  },
  "language_info": {
   "codemirror_mode": {
    "name": "ipython",
    "version": 3
   },
   "file_extension": ".py",
   "mimetype": "text/x-python",
   "name": "python",
   "nbconvert_exporter": "python",
   "pygments_lexer": "ipython3",
   "version": "3.8.5"
  }
 },
 "nbformat": 4,
 "nbformat_minor": 4
}
