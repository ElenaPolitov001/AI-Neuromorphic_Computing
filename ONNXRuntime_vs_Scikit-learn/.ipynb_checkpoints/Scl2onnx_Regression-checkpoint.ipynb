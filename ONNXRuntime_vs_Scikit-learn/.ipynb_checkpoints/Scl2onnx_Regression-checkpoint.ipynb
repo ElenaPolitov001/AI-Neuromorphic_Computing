{
 "cells": [
  {
   "cell_type": "markdown",
   "metadata": {},
   "source": [
    "## 회귀 to ONNX"
   ]
  },
  {
   "cell_type": "code",
   "execution_count": 3,
   "metadata": {},
   "outputs": [
    {
     "name": "stdout",
     "output_type": "stream",
     "text": [
      "dict_keys(['data', 'target', 'feature_names', 'DESCR', 'filename'])\n"
     ]
    }
   ],
   "source": [
    "from sklearn.datasets import load_boston #scikit-learn의 datasets에서 sample data import\n",
    "import pandas as pd\n",
    "import numpy as np\n",
    "import warnings\n",
    "warnings.filterwarnings('ignore')\n",
    "\n",
    "from sklearn.model_selection import train_test_split\n",
    "\n",
    "from sklearn.linear_model import LinearRegression\n",
    "from sklearn.metrics import mean_squared_error, r2_score\n",
    "\n",
    "boston = load_boston() # boston dataset load\n",
    "print(boston.keys()) # 각 key 확인\n",
    "# print(boston.DESCR) # boston datasets description\n",
    "\n",
    "# 데이터 프레임으로 변환\n",
    "df = pd.DataFrame(data=boston.data, columns=boston.feature_names)\n",
    "df['price'] = boston.target\n",
    "\n",
    "# x, y 설정\n",
    "x = pd.DataFrame(np.c_[df[\"LSTAT\"], df[\"RM\"]], columns=[\"LSTAT\", \"RM\"])\n",
    "y = df[\"price\"]"
   ]
  },
  {
   "cell_type": "code",
   "execution_count": 4,
   "metadata": {},
   "outputs": [
    {
     "name": "stdout",
     "output_type": "stream",
     "text": [
      "(404, 2) (102, 2) (404,) (102,)\n"
     ]
    },
    {
     "data": {
      "text/plain": [
       "LinearRegression(copy_X=True, fit_intercept=True, n_jobs=None, normalize=False)"
      ]
     },
     "execution_count": 4,
     "metadata": {},
     "output_type": "execute_result"
    }
   ],
   "source": [
    "# trian, test set 분리\n",
    "x_train, x_test, y_train, y_test = train_test_split(x, y, \n",
    "                                                    test_size=0.2, \n",
    "                                                    random_state=5)\n",
    "\n",
    "print(x_train.shape, x_test.shape, y_train.shape, y_test.shape)\n",
    "\n",
    "# 학습\n",
    "model = LinearRegression()\n",
    "model.fit(x_train, y_train)"
   ]
  },
  {
   "cell_type": "code",
   "execution_count": 5,
   "metadata": {},
   "outputs": [
    {
     "name": "stdout",
     "output_type": "stream",
     "text": [
      "--train set\n",
      "price is 5.6371293350711955\n",
      "R2 Score is 0.6300745149331701\n",
      "--test set\n",
      "price is 5.137400784702911\n",
      "R2 Score is 0.6628996975186952\n"
     ]
    }
   ],
   "source": [
    "# train set에 대한 모델 평가\n",
    "y_train_predict = model.predict(x_train)\n",
    "rmse = (np.sqrt(mean_squared_error(y_train, y_train_predict)))\n",
    "r2 = r2_score(y_train, y_train_predict)\n",
    "print(\"--train set\")\n",
    "print(\"price is {}\".format(rmse))\n",
    "print(\"R2 Score is {}\".format(r2))\n",
    "\n",
    "# test set에 대한 모델 평가\n",
    "y_train_predict = model.predict(x_test)\n",
    "rmse = (np.sqrt(mean_squared_error(y_test, y_train_predict)))\n",
    "r2 = r2_score(y_test, y_train_predict)\n",
    "print(\"--test set\")\n",
    "print(\"price is {}\".format(rmse))\n",
    "print(\"R2 Score is {}\".format(r2))"
   ]
  },
  {
   "cell_type": "code",
   "execution_count": 6,
   "metadata": {},
   "outputs": [
    {
     "name": "stdout",
     "output_type": "stream",
     "text": [
      "회귀 onnx 모델 변형 완료\n"
     ]
    }
   ],
   "source": [
    "# Convert into ONNX format\n",
    "from skl2onnx import convert_sklearn\n",
    "from skl2onnx.common.data_types import FloatTensorType\n",
    "\n",
    "initial_type = [('float_input', FloatTensorType([None, 4]))]\n",
    "onx = convert_sklearn(model, initial_types=initial_type)\n",
    "\n",
    "# .onnx 모델 지정\n",
    "with open(\"regression_boston.onnx\", \"wb\") as f:\n",
    "    f.write(onx.SerializeToString())\n",
    "\n",
    "print('회귀 onnx 모델 변형 완료')"
   ]
  },
  {
   "cell_type": "markdown",
   "metadata": {},
   "source": [
    "## Inference time 비교"
   ]
  },
  {
   "cell_type": "code",
   "execution_count": 7,
   "metadata": {},
   "outputs": [
    {
     "name": "stdout",
     "output_type": "stream",
     "text": [
      "skl 걸린시간: 0.42650699615478516\n"
     ]
    }
   ],
   "source": [
    "# scikit learn score\n",
    "\n",
    "import time\n",
    "\n",
    "start = time.time()\n",
    "\n",
    "# 1000번 predict\n",
    "for i in range(1000):\n",
    "    pred_skl = model.predict(x_test)\n",
    "    \n",
    "end = time.time()\n",
    "\n",
    "print('skl 걸린시간:', np.double(end-start))"
   ]
  },
  {
   "cell_type": "code",
   "execution_count": null,
   "metadata": {},
   "outputs": [],
   "source": [
    "# Compute the prediction with ONNX Runtime\n",
    "\n",
    "import onnxruntime as rt\n",
    "import numpy as np\n",
    "\n",
    "sess = rt.InferenceSession(\"regression_boston.onnx\")\n",
    "input_name = sess.get_inputs()[0].name\n",
    "label_name = sess.get_outputs()[0].name\n",
    "\n",
    "print(input_name, label_name)\n",
    "\n",
    "start = time.time()\n",
    "\n",
    "# 1000번 predict\n",
    "for i in range(1):\n",
    "    print('h')\n",
    "    pred_onx = sess.run([label_name], {input_name: x_test.astype(np.float32)})[0]\n",
    "end = time.time()\n",
    "\n",
    "print('onnxruntime 걸린시간:', np.double(end-start))"
   ]
  }
 ],
 "metadata": {
  "kernelspec": {
   "display_name": "Python 3",
   "language": "python",
   "name": "python3"
  },
  "language_info": {
   "codemirror_mode": {
    "name": "ipython",
    "version": 3
   },
   "file_extension": ".py",
   "mimetype": "text/x-python",
   "name": "python",
   "nbconvert_exporter": "python",
   "pygments_lexer": "ipython3",
   "version": "3.7.5"
  }
 },
 "nbformat": 4,
 "nbformat_minor": 4
}
