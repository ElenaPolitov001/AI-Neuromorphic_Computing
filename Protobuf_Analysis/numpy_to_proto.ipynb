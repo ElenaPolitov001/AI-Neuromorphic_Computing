{
 "cells": [
  {
   "cell_type": "code",
   "execution_count": 1,
   "metadata": {},
   "outputs": [
    {
     "name": "stdout",
     "output_type": "stream",
     "text": [
      "[0 1 2 3 4 5 6 7 8 9]\n",
      "ndarray: \"\\223NUMPY\\001\\000v\\000{\\'descr\\': \\'<i4\\', \\'fortran_order\\': False, \\'shape\\': (10,), }                                                           \\n\\000\\000\\000\\000\\001\\000\\000\\000\\002\\000\\000\\000\\003\\000\\000\\000\\004\\000\\000\\000\\005\\000\\000\\000\\006\\000\\000\\000\\007\\000\\000\\000\\010\\000\\000\\000\\t\\000\\000\\000\"\n",
      "\n",
      "[0 1 2 3 4 5 6 7 8 9]\n"
     ]
    }
   ],
   "source": [
    "import numpy as np\n",
    "\n",
    "from numproto import ndarray_to_proto, proto_to_ndarray\n",
    "\n",
    "nda = np.arange(10)\n",
    "print(nda)\n",
    "\n",
    "serialized_nda = ndarray_to_proto(nda)\n",
    "deserialized_nda = proto_to_ndarray(serialized_nda)\n",
    "\n",
    "print(serialized_nda)\n",
    "print(deserialized_nda)\n",
    "\n",
    "assert np.array_equal(nda, deserialized_nda)"
   ]
  }
 ],
 "metadata": {
  "kernelspec": {
   "display_name": "Python 3",
   "language": "python",
   "name": "python3"
  },
  "language_info": {
   "codemirror_mode": {
    "name": "ipython",
    "version": 3
   },
   "file_extension": ".py",
   "mimetype": "text/x-python",
   "name": "python",
   "nbconvert_exporter": "python",
   "pygments_lexer": "ipython3",
   "version": "3.7.5"
  }
 },
 "nbformat": 4,
 "nbformat_minor": 4
}
