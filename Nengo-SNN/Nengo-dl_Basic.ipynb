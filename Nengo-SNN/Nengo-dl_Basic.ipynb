{
 "cells": [
  {
   "cell_type": "markdown",
   "metadata": {},
   "source": [
    "## Nengo - dl\n",
    "- NengoDL은 Nengo 모델 용 시뮬레이터. 즉, Nengo 네트워크를 입력으로 사용하고 사용자가 일부 기본 계산을 TensorFlow를 사용하여 해당 네트워크를 시뮬레이션 할 수 있습니다 .\n",
    "- Nengo나 - Nengo-dl 은 Nengo 구성 코드는 같으며, 변경된 것은 모델을 실행하기 위해 다른 Simulator 클래스를 사용한다는 것\n",
    "\n",
    "### ■ 장점\n",
    "- 딥 러닝 학습 방법을 통해 모델의 매개 변수 최적화 (Keras API 사용)\n",
    "- CPU와 GPU 모두에서 더 빠른 시뮬레이션 속도\n",
    "- Keras 모델에서 Nengo 네트워크로 자동 변환\n",
    "- TensorFlow 코드 (개별 기능 또는 전체 네트워크 아키텍처)를 Nengo 모델에 직접 삽입\n",
    "\n",
    "### ■ Tensorflow 와 Nengo 의 모델 설계시 차이점\n",
    "- 한 가지 차이점은 Nengo를 사용하면 레이어 생성과 레이어 간의 연결 생성을 분리한다는 것\n",
    "- 이는 Nengo 네트워크의 연결 구조가 일반적인 딥 러닝 네트워크보다 상태와 일반적인 복잡성이 훨씬 더 많기 때문에 독립적으로 제어 할 수있는 것이 도움이됨\n",
    "- nengo.Probe. 이것은 시뮬레이션에서 데이터를 수집하는 데 사용됨. 중간에 프로브를 추가하면 시뮬레이션이 실행 중일 때 해당 뉴런의 활동을 수집할 수 있으며 이는 Keras의 Output 으로 나타낼 수 있음\n",
    "\n",
    "- 또 다른 차이점은 Nengo 입력의 모양에 크기가 1 인 추가 치수. 이것은 시간 차원을 나타냄. \n",
    "- **Nengo 시뮬레이션은 본질적으로 시간적**입니다. \n",
    "- 그래프가 단순히 추상적 인 계산 집합을 나타내는 TensorFlow와 달리 Nengo에서 우리는 (거의) 항상 그래프를 상태 저장 신경 시뮬레이션을 나타내는 것으로 생각하며, 여기서 값은 시간이 지남에 따라 누적, 업데이트 및 전달됨."
   ]
  },
  {
   "cell_type": "code",
   "execution_count": 5,
   "metadata": {},
   "outputs": [
    {
     "name": "stdout",
     "output_type": "stream",
     "text": [
      "Build finished in 0:00:00                                                      \n",
      "Optimization finished in 0:00:00                                               \n",
      "Construction finished in 0:00:00                                               \n",
      "Simulation finished in 0:00:01                                                 \n"
     ]
    },
    {
     "data": {
      "text/plain": [
       "[<matplotlib.lines.Line2D at 0x15c4f233c08>]"
      ]
     },
     "execution_count": 5,
     "metadata": {},
     "output_type": "execute_result"
    },
    {
     "data": {
      "image/png": "[encoded data removed]",
      "text/plain": [
       "<Figure size 432x288 with 1 Axes>"
      ]
     },
     "metadata": {
      "needs_background": "light"
     },
     "output_type": "display_data"
    }
   ],
   "source": [
    "import nengo\n",
    "import nengo_dl\n",
    "import numpy as np\n",
    "import matplotlib.pyplot as plt\n",
    "import warnings\n",
    "warnings.filterwarnings('ignore')\n",
    "\n",
    "with nengo.Network() as net:\n",
    "    # node \n",
    "    inp = nengo.Node(output=np.sin)\n",
    "    ens = nengo.Ensemble(50, 1, neuron_type=nengo.LIF()) # ensemble\n",
    "    nengo.Connection(inp, ens, synapse=0.1) # connection (node + ensemble)\n",
    "    p = nengo.Probe(ens)\n",
    "\n",
    "# tensorflow 기반 데이터\n",
    "with nengo_dl.Simulator(net) as sim: # this is the only line that changes\n",
    "    sim.run(5.0)\n",
    "plt.plot(sim.trange(), sim.data[p])\n"
   ]
  },
  {
   "cell_type": "markdown",
   "metadata": {},
   "source": [
    "## Tensorflow 로 간단한 2계층 만들기 "
   ]
  },
  {
   "cell_type": "code",
   "execution_count": null,
   "metadata": {},
   "outputs": [],
   "source": [
    "# baisc library\n",
    "import numpy as np\n",
    "import tensorflow as tf\n",
    "import matplotlib.pyplot as plt\n",
    "\n",
    "# data\n",
    "n_in = 784 # 28x28\n",
    "n_hidden = 64\n",
    "minibatch_size = 50\n",
    "\n",
    "# input\n",
    "tf_a = tf.keras.Input(shape=(n_in,))\n",
    "\n",
    "# first layer - hidden layer\n",
    "tf_b = tf.keras.layers.Dense(\n",
    "    n_hidden, activation=tf.nn.relu,\n",
    "    kernel_initializer=tf.initializers.glorot_uniform()\n",
    ")(tf_a)\n",
    "\n",
    "# second layer - output layer\n",
    "tf_c = tf.keras.layers.Dense(\n",
    "    n_in, activation=tf.nn.relu,\n",
    "    kernel_initializer=tf.initializers.glorot_uniform()\n",
    ")(tf_b)"
   ]
  },
  {
   "cell_type": "code",
   "execution_count": 15,
   "metadata": {},
   "outputs": [
    {
     "data": {
      "text/plain": [
       "array([[0.        , 0.        , 0.26305768, ..., 0.08309107, 0.12972961,\n",
       "        0.03463218],\n",
       "       [0.        , 0.        , 0.26305768, ..., 0.08309107, 0.12972961,\n",
       "        0.03463218],\n",
       "       [0.        , 0.        , 0.26305768, ..., 0.08309107, 0.12972961,\n",
       "        0.03463218],\n",
       "       ...,\n",
       "       [0.        , 0.        , 0.2630575 , ..., 0.0830911 , 0.12972978,\n",
       "        0.03463205],\n",
       "       [0.        , 0.        , 0.2630575 , ..., 0.0830911 , 0.12972978,\n",
       "        0.03463205],\n",
       "       [0.        , 0.        , 0.2630575 , ..., 0.0830911 , 0.12972978,\n",
       "        0.03463205]], dtype=float32)"
      ]
     },
     "execution_count": 15,
     "metadata": {},
     "output_type": "execute_result"
    }
   ],
   "source": [
    "# keras 로 실행하기\n",
    "model = tf.keras.Model(inputs=tf_a, outputs=tf_c)\n",
    "pr = model.predict(np.ones((minibatch_size, n_in)));\n",
    "pr"
   ]
  },
  {
   "cell_type": "markdown",
   "metadata": {},
   "source": [
    "## Nengo로 간단한 2계층 만들기"
   ]
  },
  {
   "cell_type": "code",
   "execution_count": 12,
   "metadata": {},
   "outputs": [],
   "source": [
    "# nengo_dl\n",
    "import nengo_dl\n",
    "import nengo\n",
    "from nengo.utils.matplotlib import rasterplot\n",
    "\n",
    "# data\n",
    "n_in = 784 # 28x28\n",
    "n_hidden = 64\n",
    "minibatch_size = 50\n",
    "\n",
    "# nengo - Network 만들기\n",
    "with nengo.Network() as auto_net:\n",
    "    # input node\n",
    "    nengo_a = nengo.Node(np.zeros(n_in))\n",
    "\n",
    "    # first layer (input node + ensemble b)\n",
    "    nengo_b = nengo.Ensemble(n_hidden, 1, neuron_type=nengo.RectifiedLinear())\n",
    "    nengo.Connection(nengo_a, nengo_b.neurons, transform=nengo_dl.dists.Glorot())\n",
    "\n",
    "    # second layer (ensemble b + ensemble c)\n",
    "    nengo_c = nengo.Ensemble(n_in, 1, neuron_type=nengo.RectifiedLinear())\n",
    "    \n",
    "    nengo.Connection(nengo_b.neurons, nengo_c.neurons, transform=nengo_dl.dists.Glorot())\n",
    "    \n",
    "    # probes are used to collect data from the network\n",
    "    p_c = nengo.Probe(nengo_c.neurons)"
   ]
  },
  {
   "cell_type": "code",
   "execution_count": 18,
   "metadata": {},
   "outputs": [
    {
     "name": "stdout",
     "output_type": "stream",
     "text": [
      "Build finished in 0:00:00                                                      \n",
      "Optimization finished in 0:00:00                                               \n",
      "Construction finished in 0:00:00                                               \n"
     ]
    },
    {
     "data": {
      "text/plain": [
       "OrderedDict([(<Probe at 0x217f70f8188 of 'output' of <Neurons of <Ensemble (unlabeled) at 0x217f70c80c8>>>,\n",
       "              array([[[ 82.74273 ,  21.4258  , 110.13253 , ..., 139.14568 ,\n",
       "                        82.366806,   0.      ]],\n",
       "              \n",
       "                     [[ 82.74273 ,  21.4258  , 110.13253 , ..., 139.14568 ,\n",
       "                        82.366806,   0.      ]],\n",
       "              \n",
       "                     [[ 82.74273 ,  21.4258  , 110.13253 , ..., 139.14568 ,\n",
       "                        82.366806,   0.      ]],\n",
       "              \n",
       "                     ...,\n",
       "              \n",
       "                     [[ 82.74273 ,  21.4258  , 110.13253 , ..., 139.14568 ,\n",
       "                        82.366806,   0.      ]],\n",
       "              \n",
       "                     [[ 82.74273 ,  21.4258  , 110.13253 , ..., 139.14568 ,\n",
       "                        82.366806,   0.      ]],\n",
       "              \n",
       "                     [[ 82.74273 ,  21.4258  , 110.13253 , ..., 139.14568 ,\n",
       "                        82.366806,   0.      ]]], dtype=float32))])"
      ]
     },
     "execution_count": 18,
     "metadata": {},
     "output_type": "execute_result"
    }
   ],
   "source": [
    "# nengo_dl 을 이용한 predict\n",
    "with nengo_dl.Simulator(network=auto_net, minibatch_size=minibatch_size) as sim:\n",
    "    sim.fit(xTRAIN, YTRAIN)\n",
    "    nengo_pr = sim.predict(np.ones((minibatch_size, 1, n_in)));\n",
    "    \n",
    "nengo_pr"
   ]
  },
  {
   "cell_type": "code",
   "execution_count": null,
   "metadata": {},
   "outputs": [],
   "source": []
  }
 ],
 "metadata": {
  "kernelspec": {
   "display_name": "Python 3",
   "language": "python",
   "name": "python3"
  },
  "language_info": {
   "codemirror_mode": {
    "name": "ipython",
    "version": 3
   },
   "file_extension": ".py",
   "mimetype": "text/x-python",
   "name": "python",
   "nbconvert_exporter": "python",
   "pygments_lexer": "ipython3",
   "version": "3.7.5"
  }
 },
 "nbformat": 4,
 "nbformat_minor": 4
}
