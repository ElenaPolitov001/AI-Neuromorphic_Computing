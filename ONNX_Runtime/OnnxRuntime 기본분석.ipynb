{
 "cells": [
  {
   "cell_type": "markdown",
   "metadata": {},
   "source": [
    "## ONNX Runtime 분석\n",
    "- Scikit-learn to ONNX 모델 변환 (ONNX-ML)\n",
    "- logreg_iris.onnx ORT 속성들 분석\n",
    "\n",
    "![OnnxRuntime구조](/img/OnnxRuntime구조.png)"
   ]
  },
  {
   "cell_type": "code",
   "execution_count": 5,
   "metadata": {},
   "outputs": [
    {
     "name": "stdout",
     "output_type": "stream",
     "text": [
      "(112, 4) (38, 4) (112,) (38,)\n"
     ]
    }
   ],
   "source": [
    "# Iris Data Load \n",
    "from sklearn.datasets import load_iris\n",
    "from sklearn.model_selection import train_test_split\n",
    "\n",
    "iris = load_iris()\n",
    "X, y = iris.data, iris.target\n",
    "X_train, X_test, y_train, y_test = train_test_split(X, y)\n",
    "\n",
    "print(X_train.shape, X_test.shape, y_train.shape, y_test.shape)"
   ]
  },
  {
   "cell_type": "code",
   "execution_count": 7,
   "metadata": {},
   "outputs": [
    {
     "name": "stdout",
     "output_type": "stream",
     "text": [
      "<class 'onnx.onnx_ml_pb2.ModelProto'>\n"
     ]
    },
    {
     "data": {
      "text/plain": [
       "ir_version: 4\n",
       "producer_name: \"skl2onnx\"\n",
       "producer_version: \"1.6.1\"\n",
       "domain: \"ai.onnx\"\n",
       "model_version: 0\n",
       "doc_string: \"\"\n",
       "graph {\n",
       "  node {\n",
       "    input: \"float_input\"\n",
       "    output: \"label\"\n",
       "    output: \"probability_tensor\"\n",
       "    name: \"LinearClassifier\"\n",
       "    op_type: \"LinearClassifier\"\n",
       "    attribute {\n",
       "      name: \"classlabels_ints\"\n",
       "      ints: 0\n",
       "      ints: 1\n",
       "      ints: 2\n",
       "      type: INTS\n",
       "    }\n",
       "    attribute {\n",
       "      name: \"coefficients\"\n",
       "      floats: -0.3999278247356415\n",
       "      floats: 0.8521245121955872\n",
       "      floats: -2.3182997703552246\n",
       "      floats: -0.9993020296096802\n",
       "      floats: 0.46596747636795044\n",
       "      floats: -0.333920419216156\n",
       "      floats: -0.16528157889842987\n",
       "      floats: -0.8876999020576477\n",
       "      floats: -0.06603965908288956\n",
       "      floats: -0.5182040929794312\n",
       "      floats: 2.483581304550171\n",
       "      floats: 1.8870019912719727\n",
       "      type: FLOATS\n",
       "    }\n",
       "    attribute {\n",
       "      name: \"intercepts\"\n",
       "      floats: 9.224774360656738\n",
       "      floats: 2.173171043395996\n",
       "      floats: -11.397945404052734\n",
       "      type: FLOATS\n",
       "    }\n",
       "    attribute {\n",
       "      name: \"multi_class\"\n",
       "      i: 1\n",
       "      type: INT\n",
       "    }\n",
       "    attribute {\n",
       "      name: \"post_transform\"\n",
       "      s: \"SOFTMAX\"\n",
       "      type: STRING\n",
       "    }\n",
       "    domain: \"ai.onnx.ml\"\n",
       "  }\n",
       "  node {\n",
       "    input: \"probability_tensor\"\n",
       "    output: \"probabilities\"\n",
       "    name: \"Normalizer\"\n",
       "    op_type: \"Normalizer\"\n",
       "    attribute {\n",
       "      name: \"norm\"\n",
       "      s: \"L1\"\n",
       "      type: STRING\n",
       "    }\n",
       "    domain: \"ai.onnx.ml\"\n",
       "  }\n",
       "  node {\n",
       "    input: \"label\"\n",
       "    output: \"output_label\"\n",
       "    name: \"Cast\"\n",
       "    op_type: \"Cast\"\n",
       "    attribute {\n",
       "      name: \"to\"\n",
       "      i: 7\n",
       "      type: INT\n",
       "    }\n",
       "    domain: \"\"\n",
       "  }\n",
       "  node {\n",
       "    input: \"probabilities\"\n",
       "    output: \"output_probability\"\n",
       "    name: \"ZipMap\"\n",
       "    op_type: \"ZipMap\"\n",
       "    attribute {\n",
       "      name: \"classlabels_int64s\"\n",
       "      ints: 0\n",
       "      ints: 1\n",
       "      ints: 2\n",
       "      type: INTS\n",
       "    }\n",
       "    domain: \"ai.onnx.ml\"\n",
       "  }\n",
       "  name: \"31f45ec8829d4df3962d63d2ad1ef928\"\n",
       "  input {\n",
       "    name: \"float_input\"\n",
       "    type {\n",
       "      tensor_type {\n",
       "        elem_type: 1\n",
       "        shape {\n",
       "          dim {\n",
       "          }\n",
       "          dim {\n",
       "            dim_value: 4\n",
       "          }\n",
       "        }\n",
       "      }\n",
       "    }\n",
       "  }\n",
       "  output {\n",
       "    name: \"output_label\"\n",
       "    type {\n",
       "      tensor_type {\n",
       "        elem_type: 7\n",
       "        shape {\n",
       "          dim {\n",
       "            dim_value: 1\n",
       "          }\n",
       "        }\n",
       "      }\n",
       "    }\n",
       "  }\n",
       "  output {\n",
       "    name: \"output_probability\"\n",
       "    type {\n",
       "      sequence_type {\n",
       "        elem_type {\n",
       "          map_type {\n",
       "            key_type: 7\n",
       "            value_type {\n",
       "              tensor_type {\n",
       "                elem_type: 1\n",
       "              }\n",
       "            }\n",
       "          }\n",
       "        }\n",
       "      }\n",
       "    }\n",
       "  }\n",
       "}\n",
       "opset_import {\n",
       "  domain: \"\"\n",
       "  version: 9\n",
       "}\n",
       "opset_import {\n",
       "  domain: \"ai.onnx.ml\"\n",
       "  version: 1\n",
       "}"
      ]
     },
     "execution_count": 7,
     "metadata": {},
     "output_type": "execute_result"
    }
   ],
   "source": [
    "# onnx model load\n",
    "import onnx\n",
    "\n",
    "# model load\n",
    "onx_ml = onnx.load('logreg_iris.onnx')\n",
    "print(type(onx_ml))\n",
    "\n",
    "# protobuf 출력\n",
    "onx_ml"
   ]
  },
  {
   "cell_type": "code",
   "execution_count": 8,
   "metadata": {},
   "outputs": [],
   "source": [
    "# ONNX Runtime 결과\n",
    "import onnxruntime as rt\n",
    "import numpy as np\n",
    "\n",
    "# 파일 읽어오기\n",
    "sess = rt.InferenceSession(path_or_bytes = \"logreg_iris.onnx\")\n",
    "input_name = sess.get_inputs()[0].name\n",
    "label_name = sess.get_outputs()[0].name\n",
    "\n",
    "# predict\n",
    "pred_onx = sess.run([label_name], {input_name: X_test.astype(np.float32)})[0]"
   ]
  },
  {
   "cell_type": "code",
   "execution_count": 9,
   "metadata": {},
   "outputs": [
    {
     "name": "stdout",
     "output_type": "stream",
     "text": [
      "accuracy_score 1.0\n"
     ]
    }
   ],
   "source": [
    "# Accuracy 평가지표\n",
    "from sklearn.metrics import accuracy_score\n",
    "\n",
    "# Predict에 대한 Accuracy Score\n",
    "print('accuracy_score', float(accuracy_score(y_test, pred_onx))) "
   ]
  },
  {
   "cell_type": "code",
   "execution_count": 60,
   "metadata": {},
   "outputs": [
    {
     "name": "stdout",
     "output_type": "stream",
     "text": [
      "float_input\n",
      "[None, 4]\n",
      "tensor(float)\n",
      "-----------------\n",
      "output_label\n",
      "[1]\n",
      "tensor(int64)\n"
     ]
    }
   ],
   "source": [
    "# input data에 대한 정보, output data에 대한 정보\n",
    "print(sess.get_inputs()[0].name)\n",
    "print(sess.get_inputs()[0].shape)\n",
    "print(sess.get_inputs()[0].type)\n",
    "print('-----------------')\n",
    "print(sess.get_outputs()[0].name)\n",
    "print(sess.get_outputs()[0].shape)\n",
    "print(sess.get_outputs()[0].type)"
   ]
  },
  {
   "cell_type": "code",
   "execution_count": 14,
   "metadata": {},
   "outputs": [
    {
     "data": {
      "text/plain": [
       "'1.0.0'"
      ]
     },
     "execution_count": 14,
     "metadata": {},
     "output_type": "execute_result"
    },
    {
     "data": {
      "text/plain": [
       "'Microsoft'"
      ]
     },
     "execution_count": 14,
     "metadata": {},
     "output_type": "execute_result"
    }
   ],
   "source": [
    "# Runtime Version, author\n",
    "rt.__version__\n",
    "rt.__author__"
   ]
  },
  {
   "cell_type": "code",
   "execution_count": 12,
   "metadata": {},
   "outputs": [
    {
     "data": {
      "text/plain": [
       "['TensorrtExecutionProvider',\n",
       " 'CUDAExecutionProvider',\n",
       " 'MKLDNNExecutionProvider',\n",
       " 'NGRAPHExecutionProvider',\n",
       " 'OpenVINOExecutionProvider',\n",
       " 'NupharExecutionProvider',\n",
       " 'BrainSliceExecutionProvider',\n",
       " 'CPUExecutionProvider']"
      ]
     },
     "execution_count": 12,
     "metadata": {},
     "output_type": "execute_result"
    },
    {
     "data": {
      "text/plain": [
       "['CPUExecutionProvider']"
      ]
     },
     "execution_count": 12,
     "metadata": {},
     "output_type": "execute_result"
    },
    {
     "data": {
      "text/plain": [
       "'CPU'"
      ]
     },
     "execution_count": 12,
     "metadata": {},
     "output_type": "execute_result"
    }
   ],
   "source": [
    "# Runtinme Function\n",
    "rt.get_all_providers() # cpu, cuda, openvino, mkl-dnn(memory?)\n",
    "rt.get_available_providers() \n",
    "rt.get_device() # cpu, gpu\n",
    "rt.onnxruntime_validation.check_distro_info()"
   ]
  }
 ],
 "metadata": {
  "kernelspec": {
   "display_name": "Python 3",
   "language": "python",
   "name": "python3"
  },
  "language_info": {
   "codemirror_mode": {
    "name": "ipython",
    "version": 3
   },
   "file_extension": ".py",
   "mimetype": "text/x-python",
   "name": "python",
   "nbconvert_exporter": "python",
   "pygments_lexer": "ipython3",
   "version": "3.7.5"
  }
 },
 "nbformat": 4,
 "nbformat_minor": 4
}
