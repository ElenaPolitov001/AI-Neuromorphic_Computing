{
 "cells": [
  {
   "cell_type": "markdown",
   "metadata": {},
   "source": [
    "## ONNX Runtime 으로 Lenet-1 모델 돌리기\n",
    "- lenet-1_tanh.onnx 모델 로드 및 Inference 진행\n",
    "- mnist Data 이용, Train, Test 진행\n",
    "- 사전 학습 완료된 파일 : lenet-1_tanh.onnx\n",
    "    "
   ]
  },
  {
   "cell_type": "code",
   "execution_count": 1,
   "metadata": {},
   "outputs": [
    {
     "name": "stdout",
     "output_type": "stream",
     "text": [
      "--images are being resizing--\n",
      "--image resize complete--\n",
      "--images are being resizing--\n",
      "--image resize complete--\n",
      "data resize  (60000, 28, 28) (10000, 28, 28)\n",
      "expand_dims  (60000, 28, 28, 1) (10000, 28, 28, 1)\n",
      "to_categorical  (60000, 28, 28, 1) (10000, 28, 28, 1)\n",
      "전처리 작업 완료\n"
     ]
    }
   ],
   "source": [
    "import numpy as np\n",
    "from tensorflow.keras.datasets import mnist\n",
    "from tensorflow.keras import utils\n",
    "from PIL import Image\n",
    "\n",
    "# image resize 함수\n",
    "def img_resize(value, img_array):\n",
    "    print(\"--images are being resizing--\")\n",
    "    result = np.zeros((len(img_array), value[0], value[1]))\n",
    "\n",
    "    for index in range(len(img_array)):\n",
    "        img = Image.fromarray(img_array[index], 'L')\n",
    "        img = img.resize((value[0], value[1]))\n",
    "        img = np.array(img)\n",
    "        result[index] = img\n",
    "    print(\"--image resize complete--\")\n",
    "    return result\n",
    "\n",
    "# mnist Data Load 및\n",
    "(X_train, Y_train), (X_test, Y_test) = mnist.load_data()\n",
    "\n",
    "input_shape = (28, 28)\n",
    "\n",
    "# data resize\n",
    "X_train = img_resize(input_shape, X_train)\n",
    "X_test = img_resize(input_shape, X_test)\n",
    "print('data resize ',X_train.shape, X_test.shape)\n",
    "\n",
    "# 차원 확장\n",
    "X_train = np.expand_dims(X_train, axis = -1)\n",
    "X_test = np.expand_dims(X_test, axis = -1)\n",
    "print('expand_dims ',X_train.shape, X_test.shape)\n",
    "\n",
    "# 정답값 categorical로\n",
    "Y_train = utils.to_categorical(Y_train, 10)\n",
    "Y_test = utils.to_categorical(Y_test, 10)\n",
    "print('to_categorical ',X_train.shape, X_test.shape)\n",
    "\n",
    "print('전처리 작업 완료')"
   ]
  },
  {
   "cell_type": "code",
   "execution_count": 11,
   "metadata": {},
   "outputs": [
    {
     "name": "stdout",
     "output_type": "stream",
     "text": [
      "---------- y_pred ----------\n",
      "[[0.06258683 0.05771666 0.03960286 ... 0.3636641  0.05365551 0.12282629]\n",
      " [0.0621072  0.1272365  0.11648028 ... 0.03695392 0.09034108 0.04458275]\n",
      " [0.08137407 0.23129898 0.14329015 ... 0.0712693  0.07874458 0.10569439]\n",
      " ...\n",
      " [0.05942455 0.06414514 0.06736682 ... 0.16207992 0.1659305  0.08778336]\n",
      " [0.06988104 0.08422282 0.08181541 ... 0.07119451 0.17657767 0.11906472]\n",
      " [0.1480164  0.06119221 0.128175   ... 0.08134987 0.03393915 0.14120178]]\n",
      "---------- y_test ----------\n",
      "[[0. 0. 0. ... 1. 0. 0.]\n",
      " [0. 0. 1. ... 0. 0. 0.]\n",
      " [0. 1. 0. ... 0. 0. 0.]\n",
      " ...\n",
      " [0. 0. 0. ... 0. 0. 0.]\n",
      " [0. 0. 0. ... 0. 0. 0.]\n",
      " [0. 0. 0. ... 0. 0. 0.]]\n"
     ]
    }
   ],
   "source": [
    "# ONNX Runtime 완료\n",
    "import onnxruntime as rt\n",
    "sess = rt.InferenceSession(\"../model/lenet-1_tanh.onnx\")\n",
    "\n",
    "input_name = sess.get_inputs()[0].name\n",
    "label_name = sess.get_outputs()[0].name\n",
    "\n",
    "# sess.run\n",
    "pred_onx = sess.run([label_name], {input_name: X_test.astype(np.float32)})[0]\n",
    "\n",
    "print('---------- y_pred ----------')\n",
    "print(pred_onx)\n",
    "print('---------- y_test ----------')\n",
    "print(Y_test)"
   ]
  },
  {
   "cell_type": "code",
   "execution_count": 9,
   "metadata": {},
   "outputs": [
    {
     "name": "stdout",
     "output_type": "stream",
     "text": [
      "0.90006\n"
     ]
    }
   ],
   "source": [
    "# 정확도 보기\n",
    "from sklearn.metrics import accuracy_score\n",
    "\n",
    "# 테스트 predict 결과들 비교 (평가지표 보기위함)\n",
    "pred = np.round(np.array(pred_onx).flatten().tolist())\n",
    "test = np.array(np.array(Y_test).flatten().tolist())\n",
    "\n",
    "k_accuracy = float(accuracy_score(test, pred))\n",
    "print(k_accuracy)"
   ]
  }
 ],
 "metadata": {
  "kernelspec": {
   "display_name": "Python 3",
   "language": "python",
   "name": "python3"
  },
  "language_info": {
   "codemirror_mode": {
    "name": "ipython",
    "version": 3
   },
   "file_extension": ".py",
   "mimetype": "text/x-python",
   "name": "python",
   "nbconvert_exporter": "python",
   "pygments_lexer": "ipython3",
   "version": "3.7.5"
  }
 },
 "nbformat": 4,
 "nbformat_minor": 4
}
