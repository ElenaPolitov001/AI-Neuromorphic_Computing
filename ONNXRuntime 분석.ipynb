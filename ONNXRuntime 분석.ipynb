{
 "cells": [
  {
   "cell_type": "markdown",
   "metadata": {},
   "source": [
    "## Scikit learn to ONNX\n",
    "- Neuromophic 연구 : ONNX <-> ML (Scikit learn)"
   ]
  },
  {
   "cell_type": "code",
   "execution_count": 18,
   "metadata": {},
   "outputs": [
    {
     "name": "stdout",
     "output_type": "stream",
     "text": [
      "(112, 4) (38, 4) (112,) (38,)\n"
     ]
    }
   ],
   "source": [
    "# Iris Data Load \n",
    "# Train a model.\n",
    "\n",
    "from sklearn.datasets import load_iris\n",
    "from sklearn.model_selection import train_test_split\n",
    "iris = load_iris()\n",
    "X, y = iris.data, iris.target\n",
    "X_train, X_test, y_train, y_test = train_test_split(X, y)\n",
    "\n",
    "print(X_train.shape, X_test.shape, y_train.shape, y_test.shape)"
   ]
  },
  {
   "cell_type": "code",
   "execution_count": 20,
   "metadata": {},
   "outputs": [
    {
     "data": {
      "text/plain": [
       "LogisticRegression(C=1.0, class_weight=None, dual=False, fit_intercept=True,\n",
       "                   intercept_scaling=1, l1_ratio=None, max_iter=100,\n",
       "                   multi_class='auto', n_jobs=None, penalty='l2',\n",
       "                   random_state=None, solver='lbfgs', tol=0.0001, verbose=0,\n",
       "                   warm_start=False)"
      ]
     },
     "execution_count": 20,
     "metadata": {},
     "output_type": "execute_result"
    }
   ],
   "source": [
    "# Logistic Regression Fit\n",
    "from sklearn.linear_model import LogisticRegression\n",
    "\n",
    "# 모델 생성 및 학습\n",
    "clr = LogisticRegression()\n",
    "clr.fit(X_train, y_train)"
   ]
  },
  {
   "cell_type": "code",
   "execution_count": 21,
   "metadata": {},
   "outputs": [
    {
     "data": {
      "text/plain": [
       "699"
      ]
     },
     "execution_count": 21,
     "metadata": {},
     "output_type": "execute_result"
    }
   ],
   "source": [
    "# Convert into ONNX format\n",
    "from skl2onnx import convert_sklearn\n",
    "from skl2onnx.common.data_types import FloatTensorType\n",
    "\n",
    "initial_type = [('float_input', FloatTensorType([None, 4]))]\n",
    "onx = convert_sklearn(clr, initial_types=initial_type)\n",
    "\n",
    "# onnx 모델 지정\n",
    "with open(\"logreg_iris.onnx\", \"wb\") as f:\n",
    "    f.write(onx.SerializeToString())\n",
    "    "
   ]
  },
  {
   "cell_type": "code",
   "execution_count": 63,
   "metadata": {
    "scrolled": false
   },
   "outputs": [
    {
     "name": "stdout",
     "output_type": "stream",
     "text": [
      "<class 'onnx.onnx_ml_pb2.ModelProto'>\n"
     ]
    },
    {
     "data": {
      "text/plain": [
       "ir_version: 4\n",
       "producer_name: \"skl2onnx\"\n",
       "producer_version: \"1.6.1\"\n",
       "domain: \"ai.onnx\"\n",
       "model_version: 0\n",
       "doc_string: \"\"\n",
       "graph {\n",
       "  node {\n",
       "    input: \"float_input\"\n",
       "    output: \"label\"\n",
       "    output: \"probability_tensor\"\n",
       "    name: \"LinearClassifier\"\n",
       "    op_type: \"LinearClassifier\"\n",
       "    attribute {\n",
       "      name: \"classlabels_ints\"\n",
       "      ints: 0\n",
       "      ints: 1\n",
       "      ints: 2\n",
       "      type: INTS\n",
       "    }\n",
       "    attribute {\n",
       "      name: \"coefficients\"\n",
       "      floats: -0.4361514747142792\n",
       "      floats: 0.835845410823822\n",
       "      floats: -2.322659730911255\n",
       "      floats: -0.9590612053871155\n",
       "      floats: 0.5638760924339294\n",
       "      floats: -0.3518039882183075\n",
       "      floats: -0.16542649269104004\n",
       "      floats: -0.8327014446258545\n",
       "      floats: -0.12772460281848907\n",
       "      floats: -0.48404139280319214\n",
       "      floats: 2.488086223602295\n",
       "      floats: 1.7917625904083252\n",
       "      type: FLOATS\n",
       "    }\n",
       "    attribute {\n",
       "      name: \"intercepts\"\n",
       "      floats: 9.438634872436523\n",
       "      floats: 1.6098077297210693\n",
       "      floats: -11.048442840576172\n",
       "      type: FLOATS\n",
       "    }\n",
       "    attribute {\n",
       "      name: \"multi_class\"\n",
       "      i: 1\n",
       "      type: INT\n",
       "    }\n",
       "    attribute {\n",
       "      name: \"post_transform\"\n",
       "      s: \"SOFTMAX\"\n",
       "      type: STRING\n",
       "    }\n",
       "    domain: \"ai.onnx.ml\"\n",
       "  }\n",
       "  node {\n",
       "    input: \"probability_tensor\"\n",
       "    output: \"probabilities\"\n",
       "    name: \"Normalizer\"\n",
       "    op_type: \"Normalizer\"\n",
       "    attribute {\n",
       "      name: \"norm\"\n",
       "      s: \"L1\"\n",
       "      type: STRING\n",
       "    }\n",
       "    domain: \"ai.onnx.ml\"\n",
       "  }\n",
       "  node {\n",
       "    input: \"label\"\n",
       "    output: \"output_label\"\n",
       "    name: \"Cast\"\n",
       "    op_type: \"Cast\"\n",
       "    attribute {\n",
       "      name: \"to\"\n",
       "      i: 7\n",
       "      type: INT\n",
       "    }\n",
       "    domain: \"\"\n",
       "  }\n",
       "  node {\n",
       "    input: \"probabilities\"\n",
       "    output: \"output_probability\"\n",
       "    name: \"ZipMap\"\n",
       "    op_type: \"ZipMap\"\n",
       "    attribute {\n",
       "      name: \"classlabels_int64s\"\n",
       "      ints: 0\n",
       "      ints: 1\n",
       "      ints: 2\n",
       "      type: INTS\n",
       "    }\n",
       "    domain: \"ai.onnx.ml\"\n",
       "  }\n",
       "  name: \"439a694bead947708907b6dec9ac86e7\"\n",
       "  input {\n",
       "    name: \"float_input\"\n",
       "    type {\n",
       "      tensor_type {\n",
       "        elem_type: 1\n",
       "        shape {\n",
       "          dim {\n",
       "          }\n",
       "          dim {\n",
       "            dim_value: 4\n",
       "          }\n",
       "        }\n",
       "      }\n",
       "    }\n",
       "  }\n",
       "  output {\n",
       "    name: \"output_label\"\n",
       "    type {\n",
       "      tensor_type {\n",
       "        elem_type: 7\n",
       "        shape {\n",
       "          dim {\n",
       "            dim_value: 1\n",
       "          }\n",
       "        }\n",
       "      }\n",
       "    }\n",
       "  }\n",
       "  output {\n",
       "    name: \"output_probability\"\n",
       "    type {\n",
       "      sequence_type {\n",
       "        elem_type {\n",
       "          map_type {\n",
       "            key_type: 7\n",
       "            value_type {\n",
       "              tensor_type {\n",
       "                elem_type: 1\n",
       "              }\n",
       "            }\n",
       "          }\n",
       "        }\n",
       "      }\n",
       "    }\n",
       "  }\n",
       "}\n",
       "opset_import {\n",
       "  domain: \"ai.onnx.ml\"\n",
       "  version: 1\n",
       "}\n",
       "opset_import {\n",
       "  domain: \"\"\n",
       "  version: 9\n",
       "}"
      ]
     },
     "execution_count": 63,
     "metadata": {},
     "output_type": "execute_result"
    }
   ],
   "source": [
    "print(type(onx))\n",
    "onx"
   ]
  },
  {
   "cell_type": "code",
   "execution_count": 52,
   "metadata": {},
   "outputs": [],
   "source": [
    "# Compute the prediction with ONNX Runtime\n",
    "# 여러개 쳐도 나오게\n",
    "from IPython.core.interactiveshell import InteractiveShell\n",
    "InteractiveShell.ast_node_interactivity = \"all\"\n",
    "\n",
    "import onnxruntime as rt\n",
    "import numpy as np\n",
    "\n",
    "sess = rt.InferenceSession(path_or_bytes = \"logreg_iris.onnx\")\n",
    "input_name = sess.get_inputs()[0].name\n",
    "label_name = sess.get_outputs()[0].name\n",
    "\n",
    "pred_onx = sess.run([label_name], {input_name: X_test.astype(np.float32)})[0]"
   ]
  },
  {
   "cell_type": "code",
   "execution_count": 60,
   "metadata": {},
   "outputs": [
    {
     "name": "stdout",
     "output_type": "stream",
     "text": [
      "float_input\n",
      "[None, 4]\n",
      "tensor(float)\n",
      "-----------------\n",
      "output_label\n",
      "[1]\n",
      "tensor(int64)\n"
     ]
    }
   ],
   "source": [
    "print(sess.get_inputs()[0].name)\n",
    "print(sess.get_inputs()[0].shape)\n",
    "print(sess.get_inputs()[0].type)\n",
    "print('-----------------')\n",
    "print(sess.get_outputs()[0].name)\n",
    "print(sess.get_outputs()[0].shape)\n",
    "print(sess.get_outputs()[0].type)"
   ]
  },
  {
   "cell_type": "code",
   "execution_count": 70,
   "metadata": {},
   "outputs": [
    {
     "data": {
      "text/plain": [
       "[None, 4]"
      ]
     },
     "execution_count": 70,
     "metadata": {},
     "output_type": "execute_result"
    }
   ],
   "source": [
    "sess.get_inputs()[0].shape"
   ]
  },
  {
   "cell_type": "code",
   "execution_count": 53,
   "metadata": {},
   "outputs": [
    {
     "data": {
      "text/plain": [
       "array([1, 1, 0, 1, 1, 2, 0, 2, 0, 2, 2, 1, 1, 0, 0, 2, 0, 1, 2, 2, 2, 1,\n",
       "       2, 0, 0, 1, 1, 0, 1, 1, 0, 2, 1, 0, 2, 2, 1, 2], dtype=int64)"
      ]
     },
     "execution_count": 53,
     "metadata": {},
     "output_type": "execute_result"
    },
    {
     "data": {
      "text/plain": [
       "'output_label'"
      ]
     },
     "execution_count": 53,
     "metadata": {},
     "output_type": "execute_result"
    }
   ],
   "source": [
    "pred_onx\n",
    "label_name"
   ]
  },
  {
   "cell_type": "code",
   "execution_count": 14,
   "metadata": {},
   "outputs": [
    {
     "data": {
      "text/plain": [
       "'1.0.0'"
      ]
     },
     "execution_count": 14,
     "metadata": {},
     "output_type": "execute_result"
    },
    {
     "data": {
      "text/plain": [
       "'Microsoft'"
      ]
     },
     "execution_count": 14,
     "metadata": {},
     "output_type": "execute_result"
    }
   ],
   "source": [
    "# \n",
    "rt.__version__\n",
    "rt.__author__"
   ]
  },
  {
   "cell_type": "code",
   "execution_count": 12,
   "metadata": {},
   "outputs": [
    {
     "data": {
      "text/plain": [
       "['TensorrtExecutionProvider',\n",
       " 'CUDAExecutionProvider',\n",
       " 'MKLDNNExecutionProvider',\n",
       " 'NGRAPHExecutionProvider',\n",
       " 'OpenVINOExecutionProvider',\n",
       " 'NupharExecutionProvider',\n",
       " 'BrainSliceExecutionProvider',\n",
       " 'CPUExecutionProvider']"
      ]
     },
     "execution_count": 12,
     "metadata": {},
     "output_type": "execute_result"
    },
    {
     "data": {
      "text/plain": [
       "['CPUExecutionProvider']"
      ]
     },
     "execution_count": 12,
     "metadata": {},
     "output_type": "execute_result"
    },
    {
     "data": {
      "text/plain": [
       "'CPU'"
      ]
     },
     "execution_count": 12,
     "metadata": {},
     "output_type": "execute_result"
    }
   ],
   "source": [
    "# function\n",
    "rt.get_all_providers() # cpu, cuda, openvino, mkl-dnn(memory?)\n",
    "rt.get_available_providers() \n",
    "rt.get_device() # cpu, gpu\n",
    "rt.onnxruntime_validation.check_distro_info()"
   ]
  },
  {
   "cell_type": "code",
   "execution_count": null,
   "metadata": {},
   "outputs": [],
   "source": [
    "## 런타임 version\n",
    "## 사용 device\n",
    "## input name, shape, type\n",
    "## output name, shape, type\n",
    "## "
   ]
  },
  {
   "cell_type": "code",
   "execution_count": 7,
   "metadata": {},
   "outputs": [
    {
     "name": "stdout",
     "output_type": "stream",
     "text": [
      "accuracy_score 0.9473684210526315\n"
     ]
    }
   ],
   "source": [
    "# Accuracy 평가지표\n",
    "from sklearn.metrics import accuracy_score\n",
    "\n",
    "# Predict에 대한 Accuracy Score\n",
    "print('accuracy_score', float(accuracy_score(y_test, pred_onx))) "
   ]
  }
 ],
 "metadata": {
  "kernelspec": {
   "display_name": "Python 3",
   "language": "python",
   "name": "python3"
  },
  "language_info": {
   "codemirror_mode": {
    "name": "ipython",
    "version": 3
   },
   "file_extension": ".py",
   "mimetype": "text/x-python",
   "name": "python",
   "nbconvert_exporter": "python",
   "pygments_lexer": "ipython3",
   "version": "3.7.5"
  }
 },
 "nbformat": 4,
 "nbformat_minor": 4
}
