{
 "cells": [
  {
   "cell_type": "code",
   "execution_count": 79,
   "metadata": {},
   "outputs": [],
   "source": [
    "import onnx\n",
    "\n",
    "# ML, DL, SNN 모델 Load\n",
    "model1 = onnx.load('model/rf_iris.onnx')\n",
    "model2 = onnx.load('model/lenet-1.onnx')\n",
    "model3 = onnx.load('model/lenet-1_snn.onnx')"
   ]
  },
  {
   "cell_type": "code",
   "execution_count": 80,
   "metadata": {},
   "outputs": [
    {
     "name": "stdout",
     "output_type": "stream",
     "text": [
      "[name: \"float_input\"\n",
      "type {\n",
      "  tensor_type {\n",
      "    elem_type: 1\n",
      "    shape {\n",
      "      dim {\n",
      "      }\n",
      "      dim {\n",
      "        dim_value: 4\n",
      "      }\n",
      "    }\n",
      "  }\n",
      "}\n",
      "] \n",
      "\n",
      "[name: \"conv1_input\"\n",
      "type {\n",
      "  tensor_type {\n",
      "    elem_type: 1\n",
      "    shape {\n",
      "      dim {\n",
      "        dim_param: \"N\"\n",
      "      }\n",
      "      dim {\n",
      "        dim_value: 28\n",
      "      }\n",
      "      dim {\n",
      "        dim_value: 28\n",
      "      }\n",
      "      dim {\n",
      "        dim_value: 1\n",
      "      }\n",
      "    }\n",
      "  }\n",
      "}\n",
      "] \n",
      "\n",
      "[name: \"conv1_input\"\n",
      "type {\n",
      "  tensor_type {\n",
      "    elem_type: 1\n",
      "    shape {\n",
      "      dim {\n",
      "        dim_param: \"N\"\n",
      "      }\n",
      "      dim {\n",
      "        dim_value: 28\n",
      "      }\n",
      "      dim {\n",
      "        dim_value: 28\n",
      "      }\n",
      "      dim {\n",
      "        dim_value: 1\n",
      "      }\n",
      "    }\n",
      "  }\n",
      "}\n",
      "] \n",
      "\n"
     ]
    }
   ],
   "source": [
    "# 모델의 정보를 보면 . 을 이용해서 접근이 가능함\n",
    "print(model1.graph.input,'\\n')\n",
    "print(model2.graph.input,'\\n')\n",
    "print(model3.graph.input,'\\n')"
   ]
  },
  {
   "cell_type": "code",
   "execution_count": 81,
   "metadata": {},
   "outputs": [
    {
     "name": "stdout",
     "output_type": "stream",
     "text": [
      "[name: \"output_label\"\n",
      "type {\n",
      "  tensor_type {\n",
      "    elem_type: 7\n",
      "    shape {\n",
      "      dim {\n",
      "        dim_value: 1\n",
      "      }\n",
      "    }\n",
      "  }\n",
      "}\n",
      ", name: \"output_probability\"\n",
      "type {\n",
      "  sequence_type {\n",
      "    elem_type {\n",
      "      map_type {\n",
      "        key_type: 7\n",
      "        value_type {\n",
      "          tensor_type {\n",
      "            elem_type: 1\n",
      "          }\n",
      "        }\n",
      "      }\n",
      "    }\n",
      "  }\n",
      "}\n",
      "] \n",
      "\n",
      "[name: \"predictions\"\n",
      "type {\n",
      "  tensor_type {\n",
      "    elem_type: 1\n",
      "    shape {\n",
      "      dim {\n",
      "        dim_param: \"N\"\n",
      "      }\n",
      "      dim {\n",
      "        dim_value: 10\n",
      "      }\n",
      "    }\n",
      "  }\n",
      "}\n",
      "] \n",
      "\n",
      "[name: \"predictions\"\n",
      "type {\n",
      "  tensor_type {\n",
      "    elem_type: 1\n",
      "    shape {\n",
      "      dim {\n",
      "        dim_param: \"N\"\n",
      "      }\n",
      "      dim {\n",
      "        dim_value: 10\n",
      "      }\n",
      "    }\n",
      "  }\n",
      "}\n",
      "] \n",
      "\n"
     ]
    }
   ],
   "source": [
    "print(model1.graph.output,'\\n')\n",
    "print(model2.graph.output,'\\n')\n",
    "print(model3.graph.output,'\\n')"
   ]
  },
  {
   "cell_type": "code",
   "execution_count": 77,
   "metadata": {},
   "outputs": [
    {
     "data": {
      "text/plain": [
       "[dim_param: \"N\"\n",
       ", dim_value: 28\n",
       ", dim_value: 28\n",
       ", dim_value: 1\n",
       "]"
      ]
     },
     "execution_count": 77,
     "metadata": {},
     "output_type": "execute_result"
    }
   ],
   "source": [
    "# 우리가 찾아야 될 정보 !\n",
    "s = model.graph.input[0].type.tensor_type.shape.dim\n",
    "s\n",
    "\n",
    "# ==> 요거를 tensor(N, 28, 28, 1) 으로 바꾸어야 함!!"
   ]
  },
  {
   "cell_type": "code",
   "execution_count": 83,
   "metadata": {},
   "outputs": [
    {
     "name": "stdout",
     "output_type": "stream",
     "text": [
      "tensor(,4)\n",
      "tensor(N,28,28,1)\n",
      "tensor(N,28,28,1)\n",
      "-------------------------------\n",
      "tensor(1)\n",
      "tensor(N,10)\n",
      "tensor(N,10)\n"
     ]
    }
   ],
   "source": [
    "import re # 정규식 모듈 \n",
    "\n",
    "def refunc(x):\n",
    "    # 정규식을 이용한 \" \" 및 dim_value 등 제거 ~\n",
    "    try:\n",
    "        k = re.sub(r'^\"|\"$', '', str(x).split(' ')[1].strip())\n",
    "    except:\n",
    "        k = str(x)\n",
    "    return k  \n",
    "\n",
    "# ML DL SNN - Input\n",
    "for model in [model1, model2, model2]:\n",
    "    s = model.graph.input[0].type.tensor_type.shape.dim\n",
    "\n",
    "    # refunc 함수가 적용된 list\n",
    "    ls = list(map(lambda x:refunc(x), s))\n",
    "    result = 'tensor(' + ','.join(ls) + ')'\n",
    "    print(result)\n",
    "    \n",
    "    \n",
    "print('-------------------------------')\n",
    "\n",
    "# ML DL SNN - Output\n",
    "for model in [model1, model2, model2]:\n",
    "    s = model.graph.output[0].type.tensor_type.shape.dim\n",
    "\n",
    "    # refunc 함수가 적용된 list\n",
    "    ls = list(map(lambda x:refunc(x), s))\n",
    "    result = 'tensor(' + ','.join(ls) + ')'\n",
    "    print(result)"
   ]
  }
 ],
 "metadata": {
  "kernelspec": {
   "display_name": "Python 3",
   "language": "python",
   "name": "python3"
  },
  "language_info": {
   "codemirror_mode": {
    "name": "ipython",
    "version": 3
   },
   "file_extension": ".py",
   "mimetype": "text/x-python",
   "name": "python",
   "nbconvert_exporter": "python",
   "pygments_lexer": "ipython3",
   "version": "3.7.5"
  }
 },
 "nbformat": 4,
 "nbformat_minor": 4
}
