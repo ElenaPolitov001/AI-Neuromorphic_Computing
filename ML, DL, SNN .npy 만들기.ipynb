{
 "cells": [
  {
   "cell_type": "markdown",
   "metadata": {},
   "source": [
    "## DL, SNN Mnist 테스트 데이터 만들기 "
   ]
  },
  {
   "cell_type": "code",
   "execution_count": 3,
   "metadata": {},
   "outputs": [
    {
     "name": "stdout",
     "output_type": "stream",
     "text": [
      "<class 'numpy.ndarray'>\n",
      "Before data resize  (60000, 28, 28) (10000, 28, 28)\n",
      "--images are being resizing--\n",
      "--image resize complete--\n",
      "--images are being resizing--\n",
      "--image resize complete--\n",
      "data resize  (60000, 28, 28) (10000, 28, 28)\n",
      "expand_dims  (60000, 28, 28, 1) (10000, 28, 28, 1)\n",
      "to_categorical  (60000, 28, 28, 1) (10000, 28, 28, 1)\n",
      "전처리 작업 완료\n",
      "테스트 데이터 : (10000, 28, 28, 1) (10000, 10)\n",
      "Mnist .npy 파일 저장 완료\n"
     ]
    }
   ],
   "source": [
    "import numpy as np\n",
    "from tensorflow.keras.datasets import mnist\n",
    "from tensorflow.keras import utils\n",
    "from PIL import Image\n",
    "\n",
    "# image resize 함수\n",
    "def img_resize(value, img_array):\n",
    "    print(\"--images are being resizing--\")\n",
    "    result = np.zeros((len(img_array), value[0], value[1]))\n",
    "\n",
    "    for index in range(len(img_array)):\n",
    "        img = Image.fromarray(img_array[index], 'L')\n",
    "        img = img.resize((value[0], value[1]))\n",
    "        img = np.array(img)\n",
    "        result[index] = img\n",
    "    print(\"--image resize complete--\")\n",
    "    return result\n",
    "\n",
    "# mnist Data Load 및\n",
    "(X_train, Y_train), (X_test, Y_test) = mnist.load_data()\n",
    "print(type(X_train))\n",
    "input_shape = (28, 28)\n",
    "print('Before data resize ',X_train.shape, X_test.shape)\n",
    "\n",
    "# data resize\n",
    "X_train = img_resize(input_shape, X_train)\n",
    "X_test = img_resize(input_shape, X_test)\n",
    "print('data resize ',X_train.shape, X_test.shape)\n",
    "\n",
    "# 차원 확장\n",
    "X_train = np.expand_dims(X_train, axis = -1)\n",
    "X_test = np.expand_dims(X_test, axis = -1)\n",
    "print('expand_dims ',X_train.shape, X_test.shape)\n",
    "\n",
    "# 정답값 categorical로\n",
    "Y_train = utils.to_categorical(Y_train, 10)\n",
    "Y_test = utils.to_categorical(Y_test, 10)\n",
    "print('to_categorical ',X_train.shape, X_test.shape)\n",
    "\n",
    "print('전처리 작업 완료')\n",
    "\n",
    "np.save('mnist_28x28_X_test.npy', X_test)\n",
    "np.save('mnist_28x28_Y_test.npy', Y_test)\n",
    "print('테스트 데이터 :', X_test.shape, Y_test.shape)\n",
    "print('Mnist .npy 파일 저장 완료')"
   ]
  },
  {
   "cell_type": "markdown",
   "metadata": {},
   "source": [
    "## ML 테스트 데이터 만들기"
   ]
  },
  {
   "cell_type": "code",
   "execution_count": 4,
   "metadata": {},
   "outputs": [
    {
     "name": "stdout",
     "output_type": "stream",
     "text": [
      "(112, 4) (38, 4) (60000, 10) (10000, 10)\n",
      "테스트 데이터 : (38, 4) (10000, 10)\n",
      "iris .npy 파일 저장 완료\n"
     ]
    }
   ],
   "source": [
    "# Iris Data Load \n",
    "# Train a model.\n",
    "from sklearn.datasets import load_iris\n",
    "from sklearn.model_selection import train_test_split\n",
    "\n",
    "iris = load_iris()\n",
    "X, y = iris.data, iris.target\n",
    "X_train, X_test, y_train, y_test = train_test_split(X, y)\n",
    "\n",
    "print(X_train.shape, X_test.shape, Y_train.shape, Y_test.shape)\n",
    "\n",
    "np.save('iris_X_test.npy', X_test)\n",
    "np.save('iris_Y_test.npy', Y_test)\n",
    "print('테스트 데이터 :', X_test.shape, Y_test.shape)\n",
    "print('iris .npy 파일 저장 완료')"
   ]
  }
 ],
 "metadata": {
  "kernelspec": {
   "display_name": "Python 3",
   "language": "python",
   "name": "python3"
  },
  "language_info": {
   "codemirror_mode": {
    "name": "ipython",
    "version": 3
   },
   "file_extension": ".py",
   "mimetype": "text/x-python",
   "name": "python",
   "nbconvert_exporter": "python",
   "pygments_lexer": "ipython3",
   "version": "3.7.5"
  }
 },
 "nbformat": 4,
 "nbformat_minor": 4
}
