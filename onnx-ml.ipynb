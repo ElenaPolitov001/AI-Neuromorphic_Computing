{
 "cells": [
  {
   "cell_type": "code",
   "execution_count": 5,
   "metadata": {},
   "outputs": [
    {
     "data": {
      "text/plain": [
       "RandomForestClassifier(bootstrap=True, ccp_alpha=0.0, class_weight=None,\n",
       "                       criterion='gini', max_depth=None, max_features='auto',\n",
       "                       max_leaf_nodes=None, max_samples=None,\n",
       "                       min_impurity_decrease=0.0, min_impurity_split=None,\n",
       "                       min_samples_leaf=1, min_samples_split=2,\n",
       "                       min_weight_fraction_leaf=0.0, n_estimators=100,\n",
       "                       n_jobs=None, oob_score=False, random_state=None,\n",
       "                       verbose=0, warm_start=False)"
      ]
     },
     "execution_count": 5,
     "metadata": {},
     "output_type": "execute_result"
    }
   ],
   "source": [
    "# Train a model.\n",
    "from sklearn.datasets import load_iris\n",
    "from sklearn.model_selection import train_test_split\n",
    "from sklearn.ensemble import RandomForestClassifier\n",
    "iris = load_iris()\n",
    "X, y = iris.data, iris.target\n",
    "X_train, X_test, y_train, y_test = train_test_split(X, y)\n",
    "clr = RandomForestClassifier()\n",
    "clr.fit(X_train, y_train)"
   ]
  },
  {
   "cell_type": "code",
   "execution_count": 6,
   "metadata": {},
   "outputs": [],
   "source": [
    "\n",
    "# Convert into ONNX format\n",
    "from skl2onnx import convert_sklearn\n",
    "from skl2onnx.common.data_types import FloatTensorType\n",
    "initial_type = [('float_input', FloatTensorType([None, 4]))]\n",
    "onx = convert_sklearn(clr, initial_types=initial_type)\n",
    "with open(\"rf_iris.onnx\", \"wb\") as f:\n",
    "    f.write(onx.SerializeToString())\n"
   ]
  },
  {
   "cell_type": "code",
   "execution_count": 7,
   "metadata": {},
   "outputs": [
    {
     "data": {
      "text/plain": [
       "array([0, 1, 2, 2, 2, 1, 2, 1, 0, 1, 2, 2, 2, 2, 2, 1, 1, 0, 1, 1, 0, 0,\n",
       "       1, 2, 1, 2, 1, 2, 2, 2, 0, 0, 1, 0, 2, 0, 0, 1], dtype=int64)"
      ]
     },
     "execution_count": 7,
     "metadata": {},
     "output_type": "execute_result"
    }
   ],
   "source": [
    "\n",
    "# Compute the prediction with ONNX Runtime\n",
    "import onnxruntime as rt\n",
    "import numpy\n",
    "sess = rt.InferenceSession(\"rf_iris.onnx\")\n",
    "input_name = sess.get_inputs()[0].name\n",
    "label_name = sess.get_outputs()[0].name\n",
    "pred_onx = sess.run([label_name], {input_name: X_test.astype(numpy.float32)})[0]"
   ]
  },
  {
   "cell_type": "code",
   "execution_count": 9,
   "metadata": {},
   "outputs": [
    {
     "data": {
      "text/plain": [
       "array([0, 1, 2, 2, 2, 1, 2, 1, 0, 1, 2, 2, 2, 2, 2, 1, 1, 0, 1, 1, 0, 0,\n",
       "       1, 2, 1, 2, 1, 2, 2, 2, 0, 0, 1, 0, 2, 0, 0, 1], dtype=int64)"
      ]
     },
     "execution_count": 9,
     "metadata": {},
     "output_type": "execute_result"
    }
   ],
   "source": [
    "pred_onx"
   ]
  },
  {
   "cell_type": "code",
   "execution_count": 8,
   "metadata": {},
   "outputs": [
    {
     "data": {
      "text/plain": [
       "array([0, 1, 2, 2, 2, 1, 2, 1, 0, 1, 2, 2, 1, 2, 2, 1, 1, 0, 1, 1, 0, 0,\n",
       "       1, 2, 1, 2, 1, 2, 2, 2, 0, 0, 1, 0, 2, 0, 0, 1])"
      ]
     },
     "execution_count": 8,
     "metadata": {},
     "output_type": "execute_result"
    }
   ],
   "source": [
    "y_test"
   ]
  },
  {
   "cell_type": "code",
   "execution_count": 12,
   "metadata": {},
   "outputs": [
    {
     "name": "stdout",
     "output_type": "stream",
     "text": [
      "accuracy_score 0.9736842105263158\n"
     ]
    }
   ],
   "source": [
    "# Accuracy 평가지표\n",
    "from sklearn.metrics import accuracy_score\n",
    "\n",
    "# Predict에 대한 Accuracy Score\n",
    "print('accuracy_score', float(accuracy_score(y_test, pred_onx))) "
   ]
  },
  {
   "cell_type": "code",
   "execution_count": 2,
   "metadata": {},
   "outputs": [
    {
     "name": "stderr",
     "output_type": "stream",
     "text": [
      "Using TensorFlow backend.\n"
     ]
    },
    {
     "name": "stdout",
     "output_type": "stream",
     "text": [
      "WARNING:tensorflow:From c:\\users\\urse\\anaconda3\\envs\\untitled\\lib\\site-packages\\tensorflow_core\\python\\ops\\resource_variable_ops.py:1630: calling BaseResourceVariable.__init__ (from tensorflow.python.ops.resource_variable_ops) with constraint is deprecated and will be removed in a future version.\n",
      "Instructions for updating:\n",
      "If using Keras pass *_constraint arguments to layers.\n"
     ]
    },
    {
     "name": "stderr",
     "output_type": "stream",
     "text": [
      "c:\\users\\urse\\anaconda3\\envs\\untitled\\lib\\site-packages\\ipykernel_launcher.py:24: UserWarning: Update your `Model` call to the Keras 2 API: `Model(inputs=[<tf.Tenso..., outputs=Tensor(\"ad...)`\n"
     ]
    }
   ],
   "source": [
    "import onnxmltools\n",
    "from keras.layers import Input, Dense, Add\n",
    "from keras.models import Model\n",
    "\n",
    "# N: batch size, C: sub-model input dimension, D: final model's input dimension\n",
    "N, C, D = 2, 3, 3\n",
    "\n",
    "# Define a sub-model, it will become a part of our final model\n",
    "sub_input1 = Input(shape=(C,))\n",
    "sub_mapped1 = Dense(D)(sub_input1)\n",
    "sub_model1 = Model(inputs=sub_input1, outputs=sub_mapped1)\n",
    "\n",
    "# Define another sub-model, it will become a part of our final model\n",
    "sub_input2 = Input(shape=(C,))\n",
    "sub_mapped2 = Dense(D)(sub_input2)\n",
    "sub_model2 = Model(inputs=sub_input2, outputs=sub_mapped2)\n",
    "\n",
    "# Define a model built upon the previous two sub-models\n",
    "input1 = Input(shape=(D,))\n",
    "input2 = Input(shape=(D,))\n",
    "mapped1_2 = sub_model1(input1)\n",
    "mapped2_2 = sub_model2(input2)\n",
    "sub_sum = Add()([mapped1_2, mapped2_2])\n",
    "keras_model = Model(inputs=[input1, input2], output=sub_sum)\n",
    "\n",
    "# Convert it! The target_opset parameter is optional.\n",
    "onnx_model = onnxmltools.convert_keras(keras_model, target_opset=7) \n"
   ]
  },
  {
   "cell_type": "code",
   "execution_count": 3,
   "metadata": {},
   "outputs": [
    {
     "data": {
      "text/plain": [
       "ir_version: 3\n",
       "producer_name: \"keras2onnx\"\n",
       "producer_version: \"1.6.1\"\n",
       "domain: \"onnx\"\n",
       "model_version: 0\n",
       "doc_string: \"\"\n",
       "graph {\n",
       "  node {\n",
       "    input: \"input_4\"\n",
       "    input: \"dense_2/kernel:0\"\n",
       "    output: \"transformed_tensor1\"\n",
       "    name: \"dense_2\"\n",
       "    op_type: \"MatMul\"\n",
       "    doc_string: \"\"\n",
       "    domain: \"\"\n",
       "  }\n",
       "  node {\n",
       "    input: \"transformed_tensor1\"\n",
       "    input: \"dense_2/bias:0\"\n",
       "    output: \"biased_tensor_name1\"\n",
       "    name: \"Add2\"\n",
       "    op_type: \"Add\"\n",
       "    domain: \"\"\n",
       "  }\n",
       "  node {\n",
       "    input: \"input_3\"\n",
       "    input: \"dense_1/kernel:0\"\n",
       "    output: \"transformed_tensor\"\n",
       "    name: \"dense_1\"\n",
       "    op_type: \"MatMul\"\n",
       "    doc_string: \"\"\n",
       "    domain: \"\"\n",
       "  }\n",
       "  node {\n",
       "    input: \"transformed_tensor\"\n",
       "    input: \"dense_1/bias:0\"\n",
       "    output: \"biased_tensor_name\"\n",
       "    name: \"Add1\"\n",
       "    op_type: \"Add\"\n",
       "    domain: \"\"\n",
       "  }\n",
       "  node {\n",
       "    input: \"biased_tensor_name\"\n",
       "    input: \"biased_tensor_name1\"\n",
       "    output: \"add_1/add:01\"\n",
       "    name: \"Add\"\n",
       "    op_type: \"Add\"\n",
       "    doc_string: \"\"\n",
       "    domain: \"\"\n",
       "  }\n",
       "  node {\n",
       "    input: \"add_1/add:01\"\n",
       "    output: \"add_1\"\n",
       "    name: \"Identity8\"\n",
       "    op_type: \"Identity\"\n",
       "    doc_string: \"\"\n",
       "    domain: \"\"\n",
       "  }\n",
       "  name: \"model_3\"\n",
       "  initializer {\n",
       "    dims: 3\n",
       "    dims: 3\n",
       "    data_type: 1\n",
       "    float_data: -0.5827484130859375\n",
       "    float_data: 0.3920764923095703\n",
       "    float_data: 0.12439799308776855\n",
       "    float_data: 0.7683825492858887\n",
       "    float_data: -0.8245279788970947\n",
       "    float_data: -0.5975353717803955\n",
       "    float_data: -0.9379570484161377\n",
       "    float_data: 0.5595266819000244\n",
       "    float_data: 0.3151247501373291\n",
       "    name: \"dense_1/kernel:0\"\n",
       "  }\n",
       "  initializer {\n",
       "    dims: 3\n",
       "    data_type: 1\n",
       "    float_data: 0.0\n",
       "    float_data: 0.0\n",
       "    float_data: 0.0\n",
       "    name: \"dense_1/bias:0\"\n",
       "  }\n",
       "  initializer {\n",
       "    dims: 3\n",
       "    dims: 3\n",
       "    data_type: 1\n",
       "    float_data: -0.8613181114196777\n",
       "    float_data: -0.8886218070983887\n",
       "    float_data: -0.4551265239715576\n",
       "    float_data: 0.8257997035980225\n",
       "    float_data: -0.42168688774108887\n",
       "    float_data: 0.036643028259277344\n",
       "    float_data: 0.8457305431365967\n",
       "    float_data: 0.0019488334655761719\n",
       "    float_data: 0.8030357360839844\n",
       "    name: \"dense_2/kernel:0\"\n",
       "  }\n",
       "  initializer {\n",
       "    dims: 3\n",
       "    data_type: 1\n",
       "    float_data: 0.0\n",
       "    float_data: 0.0\n",
       "    float_data: 0.0\n",
       "    name: \"dense_2/bias:0\"\n",
       "  }\n",
       "  input {\n",
       "    name: \"input_3\"\n",
       "    type {\n",
       "      tensor_type {\n",
       "        elem_type: 1\n",
       "        shape {\n",
       "          dim {\n",
       "            dim_param: \"None\"\n",
       "          }\n",
       "          dim {\n",
       "            dim_value: 3\n",
       "          }\n",
       "        }\n",
       "      }\n",
       "    }\n",
       "  }\n",
       "  input {\n",
       "    name: \"input_4\"\n",
       "    type {\n",
       "      tensor_type {\n",
       "        elem_type: 1\n",
       "        shape {\n",
       "          dim {\n",
       "            dim_param: \"None\"\n",
       "          }\n",
       "          dim {\n",
       "            dim_value: 3\n",
       "          }\n",
       "        }\n",
       "      }\n",
       "    }\n",
       "  }\n",
       "  input {\n",
       "    name: \"dense_1/kernel:0\"\n",
       "    type {\n",
       "      tensor_type {\n",
       "        elem_type: 1\n",
       "        shape {\n",
       "          dim {\n",
       "            dim_value: 3\n",
       "          }\n",
       "          dim {\n",
       "            dim_value: 3\n",
       "          }\n",
       "        }\n",
       "      }\n",
       "    }\n",
       "  }\n",
       "  input {\n",
       "    name: \"dense_1/bias:0\"\n",
       "    type {\n",
       "      tensor_type {\n",
       "        elem_type: 1\n",
       "        shape {\n",
       "          dim {\n",
       "            dim_value: 3\n",
       "          }\n",
       "        }\n",
       "      }\n",
       "    }\n",
       "  }\n",
       "  input {\n",
       "    name: \"dense_2/kernel:0\"\n",
       "    type {\n",
       "      tensor_type {\n",
       "        elem_type: 1\n",
       "        shape {\n",
       "          dim {\n",
       "            dim_value: 3\n",
       "          }\n",
       "          dim {\n",
       "            dim_value: 3\n",
       "          }\n",
       "        }\n",
       "      }\n",
       "    }\n",
       "  }\n",
       "  input {\n",
       "    name: \"dense_2/bias:0\"\n",
       "    type {\n",
       "      tensor_type {\n",
       "        elem_type: 1\n",
       "        shape {\n",
       "          dim {\n",
       "            dim_value: 3\n",
       "          }\n",
       "        }\n",
       "      }\n",
       "    }\n",
       "  }\n",
       "  output {\n",
       "    name: \"add_1\"\n",
       "    type {\n",
       "      tensor_type {\n",
       "        elem_type: 1\n",
       "        shape {\n",
       "          dim {\n",
       "            dim_param: \"None\"\n",
       "          }\n",
       "          dim {\n",
       "            dim_value: 3\n",
       "          }\n",
       "        }\n",
       "      }\n",
       "    }\n",
       "  }\n",
       "}\n",
       "opset_import {\n",
       "  domain: \"\"\n",
       "  version: 7\n",
       "}"
      ]
     },
     "execution_count": 3,
     "metadata": {},
     "output_type": "execute_result"
    }
   ],
   "source": [
    "onnx_model"
   ]
  },
  {
   "cell_type": "code",
   "execution_count": 14,
   "metadata": {},
   "outputs": [],
   "source": [
    "from sklearn.datasets import load_iris\n",
    "from sklearn.model_selection import train_test_split\n",
    "iris = load_iris()\n",
    "X, y = iris.data, iris.target\n",
    "X_train, X_test, y_train, y_test = train_test_split(X, y)\n",
    "\n",
    "from sklearn.linear_model import LogisticRegression\n",
    "clr = LogisticRegression()\n",
    "clr.fit(X_train, y_train)\n",
    "\n",
    "from skl2onnx import convert_sklearn\n",
    "from skl2onnx.common.data_types import FloatTensorType\n",
    "\n",
    "initial_type = [('float_input', FloatTensorType([None, 4]))]\n",
    "onx = convert_sklearn(clr, initial_types=initial_type)\n",
    "with open(\"logreg_iris.onnx\", \"wb\") as f:\n",
    "    f.write(onx.SerializeToString())\n",
    "    \n",
    "import onnxruntime as rt\n",
    "sess = rt.InferenceSession(\"logreg_iris.onnx\")\n",
    "input_name = sess.get_inputs()[0].name\n",
    "\n",
    "pred_onx = sess.run([label_name], {input_name: X_test.astype(numpy.float32)})[0]"
   ]
  },
  {
   "cell_type": "code",
   "execution_count": null,
   "metadata": {},
   "outputs": [],
   "source": []
  }
 ],
 "metadata": {
  "kernelspec": {
   "display_name": "Python 3",
   "language": "python",
   "name": "python3"
  },
  "language_info": {
   "codemirror_mode": {
    "name": "ipython",
    "version": 3
   },
   "file_extension": ".py",
   "mimetype": "text/x-python",
   "name": "python",
   "nbconvert_exporter": "python",
   "pygments_lexer": "ipython3",
   "version": "3.7.5"
  }
 },
 "nbformat": 4,
 "nbformat_minor": 4
}
