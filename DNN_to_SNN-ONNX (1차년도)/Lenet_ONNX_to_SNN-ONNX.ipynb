{
 "cells": [
  {
   "cell_type": "markdown",
   "metadata": {},
   "source": [
    "## ONNX to SNN-ONNX\n",
    "- 기존 Keras로 작성한 DNN 모델을 ONNX로 변환\n",
    "- ONNX로 변환된 모델을 SNN-ONNX로 변환 (활성화 함수를 - LIF 형태로 변환)"
   ]
  },
  {
   "cell_type": "code",
   "execution_count": 32,
   "metadata": {},
   "outputs": [
    {
     "name": "stdout",
     "output_type": "stream",
     "text": [
      "변환완료\n"
     ]
    }
   ],
   "source": [
    "import os\n",
    "import onnx\n",
    "\n",
    "# 기존 ONNX 모델을 Load 하고 SNN-ONNX 로 변환\n",
    "# 활성화 함수 LIF 형태로 변환\n",
    "\n",
    "class convert_snnOnnx:\n",
    "    def __init__(self):\n",
    "        return\n",
    "\n",
    "    def run(self, onnx_path, result_path, neuron_type):\n",
    "        MODEL_SAVE_FOLDER_PATH = '../model/'\n",
    "\n",
    "        # 경로에 폴더 미존재시 디렉토리 생성\n",
    "        if not os.path.exists(MODEL_SAVE_FOLDER_PATH):\n",
    "            os.mkdir(MODEL_SAVE_FOLDER_PATH)\n",
    "        \n",
    "        sn_index = 1 # 활성화 함수 이름 라벨링 필요 변수\n",
    "        \n",
    "        # ONNX MODEL LOAD\n",
    "        onnx_model = onnx.load(onnx_path)\n",
    "        node_len = len(onnx_model.graph.node)\n",
    "        \n",
    "        # 각 ONNX node 들 접근.\n",
    "        for index in range(node_len):\n",
    "            # 각 op_type 들이 relu, sigmoid, tanh 등이면 neruon_type 으로 변경 (LIF)\n",
    "            # LIF_1, LIF_2, LIF_3 ... 이렇게 변환해나감.\n",
    "            op_type = onnx_model.graph.node[index].op_type.lower()\n",
    "            \n",
    "            # 활성화 함수가 relu, sigmoid, tanh 이면 -> LIF 로 변환\n",
    "            if op_type == \"relu\" or op_type == \"sigmoid\" or op_type == \"tanh\":\n",
    "                onnx_model.graph.node[index].op_type = neuron_type # 문자열\n",
    "                onnx_model.graph.node[index].name = neuron_type + \"_\" + str(sn_index)\n",
    "                sn_index = sn_index + 1\n",
    "        onnx.save(onnx_model, result_path)\n",
    "\n",
    "# keras to onnx (o)\n",
    "# nengo_dl to onnx  #\n",
    "\n",
    "if __name__ == \"__main__\":\n",
    "    onnx_file_path = \"../model/lenet-1.onnx\"\n",
    "    result_file_path = \"../model/lenet-1_tanh_snn.onnx\"\n",
    "    cso = convert_snnOnnx() # \n",
    "    cso.run(onnx_file_path, result_file_path, \"LIF\") # 활성화함수 LIF 로 변환\n",
    "    print('변환완료')"
   ]
  }
 ],
 "metadata": {
  "kernelspec": {
   "display_name": "Python 3",
   "language": "python",
   "name": "python3"
  },
  "language_info": {
   "codemirror_mode": {
    "name": "ipython",
    "version": 3
   },
   "file_extension": ".py",
   "mimetype": "text/x-python",
   "name": "python",
   "nbconvert_exporter": "python",
   "pygments_lexer": "ipython3",
   "version": "3.7.5"
  }
 },
 "nbformat": 4,
 "nbformat_minor": 4
}
